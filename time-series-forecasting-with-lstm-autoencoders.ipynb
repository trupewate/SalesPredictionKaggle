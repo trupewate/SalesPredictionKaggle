{
 "cells": [
  {
   "cell_type": "markdown",
   "metadata": {
    "_uuid": "63920a788e6a0b5bb7c681717885ab6bf20b8413",
    "papermill": {
     "duration": 0.048672,
     "end_time": "2020-10-11T14:08:36.209240",
     "exception": false,
     "start_time": "2020-10-11T14:08:36.160568",
     "status": "completed"
    },
    "tags": []
   },
   "source": [
    "<h1><center>Time-series forecasting with deep learning & LSTM autoencoders</center></h1>\n",
    "\n",
    "* The purpose of this work is to show one way time-series data can be effiently encoded to lower dimensions, to be used into non time-series models.\n",
    "* Here I'll encode a time-series of size 12 (12 months) to a single value and use it on a MLP deep learning model, instead of using the time-series on a LSTM model that could be the regular approach.\n",
    "* The first part of the data preparation is from my other kernel [Model stacking, feature engineering and EDA](https://www.kaggle.com/dimitreoliveira/model-stacking-feature-engineering-and-eda).\n",
    "* This work was inspired by this Machinelearningmastery post [A Gentle Introduction to LSTM Autoencoders](https://machinelearningmastery.com/lstm-autoencoders/), make sure to check out."
   ]
  },
  {
   "cell_type": "markdown",
   "metadata": {
    "_uuid": "a40fdd9863be8fe7c5799345ece1e1174d9e6730",
    "papermill": {
     "duration": 0.046912,
     "end_time": "2020-10-11T14:08:36.300748",
     "exception": false,
     "start_time": "2020-10-11T14:08:36.253836",
     "status": "completed"
    },
    "tags": []
   },
   "source": [
    "<h2><center>Predict future sales</center></h2>\n",
    "\n",
    "We are asking you to predict total sales for every product and store in the next month. By solving this competition you will be able to apply and enhance your data science skills.\n",
    "\n",
    "You are provided with daily historical sales data. The task is to forecast the total amount of products sold in every shop for the test set. Note that the list of shops and products slightly changes every month. Creating a robust model that can handle such situations is part of the challenge.\n",
    "\n",
    "#### Data fields description:\n",
    "* ID - an Id that represents a (Shop, Item) tuple within the test set\n",
    "* shop_id - unique identifier of a shop\n",
    "* item_id - unique identifier of a product\n",
    "* item_category_id - unique identifier of item category\n",
    "* date_block_num - a consecutive month number, used for convenience. January 2013 is 0, February 2013 is 1,..., October 2015 is 33\n",
    "* date - date in format dd/mm/yyyy\n",
    "* item_cnt_day - number of products sold. You are predicting a monthly amount of this measure\n",
    "* item_price - current price of an item\n",
    "* item_name - name of item\n",
    "* shop_name - name of shop\n",
    "* item_category_name - name of item category\n",
    "\n",
    "### Dependencies"
   ]
  },
  {
   "cell_type": "code",
   "execution_count": 1,
   "metadata": {
    "_kg_hide-input": false,
    "_kg_hide-output": true,
    "_uuid": "60785124984e36422c50287be4d6b1d7944af345",
    "execution": {
     "iopub.execute_input": "2020-10-11T14:08:36.401731Z",
     "iopub.status.busy": "2020-10-11T14:08:36.400840Z",
     "iopub.status.idle": "2020-10-11T14:08:42.300184Z",
     "shell.execute_reply": "2020-10-11T14:08:42.299138Z"
    },
    "papermill": {
     "duration": 5.954076,
     "end_time": "2020-10-11T14:08:42.300344",
     "exception": false,
     "start_time": "2020-10-11T14:08:36.346268",
     "status": "completed"
    },
    "tags": []
   },
   "outputs": [],
   "source": [
    "import os, warnings, random\n",
    "import numpy as np\n",
    "import pandas as pd\n",
    "import matplotlib.pyplot as plt\n",
    "from sklearn.metrics import mean_squared_error\n",
    "from sklearn.model_selection import train_test_split\n",
    "import tensorflow as tf\n",
    "import tensorflow.keras.layers as L\n",
    "from tensorflow.keras import optimizers, Sequential, Model\n",
    "\n",
    "# Set seeds to make the experiment more reproducible.\n",
    "def seed_everything(seed=0):\n",
    "    random.seed(seed)\n",
    "    np.random.seed(seed)\n",
    "    tf.random.set_seed(seed)\n",
    "    os.environ['PYTHONHASHSEED'] = str(seed)\n",
    "    os.environ['TF_DETERMINISTIC_OPS'] = '1'\n",
    "\n",
    "seed = 0\n",
    "seed_everything(seed)\n",
    "warnings.filterwarnings('ignore')\n",
    "pd.set_option('display.float_format', lambda x: '%.2f' % x)"
   ]
  },
  {
   "cell_type": "markdown",
   "metadata": {
    "_uuid": "0dc8d7422c27df8c88b6b8493c2967da432300a8",
    "papermill": {
     "duration": 0.044861,
     "end_time": "2020-10-11T14:08:42.389188",
     "exception": false,
     "start_time": "2020-10-11T14:08:42.344327",
     "status": "completed"
    },
    "tags": []
   },
   "source": [
    "### Loading data"
   ]
  },
  {
   "cell_type": "code",
   "execution_count": 2,
   "metadata": {
    "_uuid": "1902600704b6188ec08cd65ae0df9b6541b02a6c",
    "execution": {
     "iopub.execute_input": "2020-10-11T14:08:42.489927Z",
     "iopub.status.busy": "2020-10-11T14:08:42.489260Z",
     "iopub.status.idle": "2020-10-11T14:08:45.337033Z",
     "shell.execute_reply": "2020-10-11T14:08:45.335884Z"
    },
    "papermill": {
     "duration": 2.903666,
     "end_time": "2020-10-11T14:08:45.337182",
     "exception": false,
     "start_time": "2020-10-11T14:08:42.433516",
     "status": "completed"
    },
    "tags": []
   },
   "outputs": [],
   "source": [
    "test = pd.read_csv('../input/test.csv', dtype={'ID': 'int32', 'shop_id': 'int32', \n",
    "                                                  'item_id': 'int32'})\n",
    "item_categories = pd.read_csv('../input/item_categories.csv', \n",
    "                              dtype={'item_category_name': 'str', 'item_category_id': 'int32'})\n",
    "items = pd.read_csv('../input/items.csv', dtype={'item_name': 'str', 'item_id': 'int32', \n",
    "                                                 'item_category_id': 'int32'})\n",
    "shops = pd.read_csv('../input/shops.csv', dtype={'shop_name': 'str', 'shop_id': 'int32'})\n",
    "sales = pd.read_csv('../input/sales_train.csv', parse_dates=['date'], \n",
    "                    dtype={'date': 'str', 'date_block_num': 'int32', 'shop_id': 'int32', \n",
    "                      'item_id': 'int32', 'item_price': 'float32', 'item_cnt_day': 'int32'})"
   ]
  },
  {
   "cell_type": "markdown",
   "metadata": {
    "_uuid": "c7670299c9ebef79ffb9daca617fc8773d2d68e7",
    "papermill": {
     "duration": 0.045629,
     "end_time": "2020-10-11T14:08:45.428328",
     "exception": false,
     "start_time": "2020-10-11T14:08:45.382699",
     "status": "completed"
    },
    "tags": []
   },
   "source": [
    "### Join data sets"
   ]
  },
  {
   "cell_type": "code",
   "execution_count": 3,
   "metadata": {
    "_uuid": "203e9c8159e3f7b9369624eb070b15b255b64003",
    "execution": {
     "iopub.execute_input": "2020-10-11T14:08:45.530146Z",
     "iopub.status.busy": "2020-10-11T14:08:45.528807Z",
     "iopub.status.idle": "2020-10-11T14:08:46.901991Z",
     "shell.execute_reply": "2020-10-11T14:08:46.901418Z"
    },
    "papermill": {
     "duration": 1.426873,
     "end_time": "2020-10-11T14:08:46.902116",
     "exception": false,
     "start_time": "2020-10-11T14:08:45.475243",
     "status": "completed"
    },
    "tags": []
   },
   "outputs": [],
   "source": [
    "train = sales.join(items, on='item_id', rsuffix='_').join(shops, on='shop_id', rsuffix='_').join(item_categories, on='item_category_id', rsuffix='_').drop(['item_id_', 'shop_id_', 'item_category_id_'], axis=1)"
   ]
  },
  {
   "cell_type": "markdown",
   "metadata": {
    "_uuid": "8e398989c1b07623db13744c9dc7118a8102996d",
    "papermill": {
     "duration": 0.04581,
     "end_time": "2020-10-11T14:08:46.993687",
     "exception": false,
     "start_time": "2020-10-11T14:08:46.947877",
     "status": "completed"
    },
    "tags": []
   },
   "source": [
    "### Let's take a look at the raw data"
   ]
  },
  {
   "cell_type": "code",
   "execution_count": 4,
   "metadata": {
    "_kg_hide-input": true,
    "_uuid": "eaa4c16a64104e983e0c6eeded7e6e60a3b843f0",
    "execution": {
     "iopub.execute_input": "2020-10-11T14:08:47.099396Z",
     "iopub.status.busy": "2020-10-11T14:08:47.098707Z",
     "iopub.status.idle": "2020-10-11T14:08:47.476289Z",
     "shell.execute_reply": "2020-10-11T14:08:47.476805Z"
    },
    "papermill": {
     "duration": 0.437945,
     "end_time": "2020-10-11T14:08:47.476963",
     "exception": false,
     "start_time": "2020-10-11T14:08:47.039018",
     "status": "completed"
    },
    "tags": []
   },
   "outputs": [
    {
     "name": "stdout",
     "output_type": "stream",
     "text": [
      "Train rows: 2935849\n",
      "Train columns: 10\n"
     ]
    },
    {
     "data": {
      "text/html": [
       "<div>\n",
       "<style scoped>\n",
       "    .dataframe tbody tr th:only-of-type {\n",
       "        vertical-align: middle;\n",
       "    }\n",
       "\n",
       "    .dataframe tbody tr th {\n",
       "        vertical-align: top;\n",
       "    }\n",
       "\n",
       "    .dataframe thead th {\n",
       "        text-align: right;\n",
       "    }\n",
       "</style>\n",
       "<table border=\"1\" class=\"dataframe\">\n",
       "  <thead>\n",
       "    <tr style=\"text-align: right;\">\n",
       "      <th></th>\n",
       "      <th>0</th>\n",
       "      <th>1</th>\n",
       "      <th>2</th>\n",
       "      <th>3</th>\n",
       "      <th>4</th>\n",
       "    </tr>\n",
       "  </thead>\n",
       "  <tbody>\n",
       "    <tr>\n",
       "      <th>date</th>\n",
       "      <td>2013-02-01 00:00:00</td>\n",
       "      <td>2013-03-01 00:00:00</td>\n",
       "      <td>2013-05-01 00:00:00</td>\n",
       "      <td>2013-06-01 00:00:00</td>\n",
       "      <td>2013-01-15 00:00:00</td>\n",
       "    </tr>\n",
       "    <tr>\n",
       "      <th>date_block_num</th>\n",
       "      <td>0</td>\n",
       "      <td>0</td>\n",
       "      <td>0</td>\n",
       "      <td>0</td>\n",
       "      <td>0</td>\n",
       "    </tr>\n",
       "    <tr>\n",
       "      <th>shop_id</th>\n",
       "      <td>59</td>\n",
       "      <td>25</td>\n",
       "      <td>25</td>\n",
       "      <td>25</td>\n",
       "      <td>25</td>\n",
       "    </tr>\n",
       "    <tr>\n",
       "      <th>item_id</th>\n",
       "      <td>22154</td>\n",
       "      <td>2552</td>\n",
       "      <td>2552</td>\n",
       "      <td>2554</td>\n",
       "      <td>2555</td>\n",
       "    </tr>\n",
       "    <tr>\n",
       "      <th>item_price</th>\n",
       "      <td>999.00</td>\n",
       "      <td>899.00</td>\n",
       "      <td>899.00</td>\n",
       "      <td>1709.05</td>\n",
       "      <td>1099.00</td>\n",
       "    </tr>\n",
       "    <tr>\n",
       "      <th>item_cnt_day</th>\n",
       "      <td>1</td>\n",
       "      <td>1</td>\n",
       "      <td>-1</td>\n",
       "      <td>1</td>\n",
       "      <td>1</td>\n",
       "    </tr>\n",
       "    <tr>\n",
       "      <th>item_name</th>\n",
       "      <td>ЯВЛЕНИЕ 2012 (BD)</td>\n",
       "      <td>DEEP PURPLE  The House Of Blue Light  LP</td>\n",
       "      <td>DEEP PURPLE  The House Of Blue Light  LP</td>\n",
       "      <td>DEEP PURPLE  Who Do You Think We Are  LP</td>\n",
       "      <td>DEEP PURPLE 30 Very Best Of 2CD (Фирм.)</td>\n",
       "    </tr>\n",
       "    <tr>\n",
       "      <th>item_category_id</th>\n",
       "      <td>37</td>\n",
       "      <td>58</td>\n",
       "      <td>58</td>\n",
       "      <td>58</td>\n",
       "      <td>56</td>\n",
       "    </tr>\n",
       "    <tr>\n",
       "      <th>shop_name</th>\n",
       "      <td>Ярославль ТЦ \"Альтаир\"</td>\n",
       "      <td>Москва ТРК \"Атриум\"</td>\n",
       "      <td>Москва ТРК \"Атриум\"</td>\n",
       "      <td>Москва ТРК \"Атриум\"</td>\n",
       "      <td>Москва ТРК \"Атриум\"</td>\n",
       "    </tr>\n",
       "    <tr>\n",
       "      <th>item_category_name</th>\n",
       "      <td>Кино - Blu-Ray</td>\n",
       "      <td>Музыка - Винил</td>\n",
       "      <td>Музыка - Винил</td>\n",
       "      <td>Музыка - Винил</td>\n",
       "      <td>Музыка - CD фирменного производства</td>\n",
       "    </tr>\n",
       "  </tbody>\n",
       "</table>\n",
       "</div>"
      ],
      "text/plain": [
       "                                         0  \\\n",
       "date                   2013-02-01 00:00:00   \n",
       "date_block_num                           0   \n",
       "shop_id                                 59   \n",
       "item_id                              22154   \n",
       "item_price                          999.00   \n",
       "item_cnt_day                             1   \n",
       "item_name                ЯВЛЕНИЕ 2012 (BD)   \n",
       "item_category_id                        37   \n",
       "shop_name           Ярославль ТЦ \"Альтаир\"   \n",
       "item_category_name          Кино - Blu-Ray   \n",
       "\n",
       "                                                           1  \\\n",
       "date                                     2013-03-01 00:00:00   \n",
       "date_block_num                                             0   \n",
       "shop_id                                                   25   \n",
       "item_id                                                 2552   \n",
       "item_price                                            899.00   \n",
       "item_cnt_day                                               1   \n",
       "item_name           DEEP PURPLE  The House Of Blue Light  LP   \n",
       "item_category_id                                          58   \n",
       "shop_name                                Москва ТРК \"Атриум\"   \n",
       "item_category_name                            Музыка - Винил   \n",
       "\n",
       "                                                           2  \\\n",
       "date                                     2013-05-01 00:00:00   \n",
       "date_block_num                                             0   \n",
       "shop_id                                                   25   \n",
       "item_id                                                 2552   \n",
       "item_price                                            899.00   \n",
       "item_cnt_day                                              -1   \n",
       "item_name           DEEP PURPLE  The House Of Blue Light  LP   \n",
       "item_category_id                                          58   \n",
       "shop_name                                Москва ТРК \"Атриум\"   \n",
       "item_category_name                            Музыка - Винил   \n",
       "\n",
       "                                                           3  \\\n",
       "date                                     2013-06-01 00:00:00   \n",
       "date_block_num                                             0   \n",
       "shop_id                                                   25   \n",
       "item_id                                                 2554   \n",
       "item_price                                           1709.05   \n",
       "item_cnt_day                                               1   \n",
       "item_name           DEEP PURPLE  Who Do You Think We Are  LP   \n",
       "item_category_id                                          58   \n",
       "shop_name                                Москва ТРК \"Атриум\"   \n",
       "item_category_name                            Музыка - Винил   \n",
       "\n",
       "                                                          4  \n",
       "date                                    2013-01-15 00:00:00  \n",
       "date_block_num                                            0  \n",
       "shop_id                                                  25  \n",
       "item_id                                                2555  \n",
       "item_price                                          1099.00  \n",
       "item_cnt_day                                              1  \n",
       "item_name           DEEP PURPLE 30 Very Best Of 2CD (Фирм.)  \n",
       "item_category_id                                         56  \n",
       "shop_name                               Москва ТРК \"Атриум\"  \n",
       "item_category_name      Музыка - CD фирменного производства  "
      ]
     },
     "metadata": {},
     "output_type": "display_data"
    },
    {
     "data": {
      "text/html": [
       "<div>\n",
       "<style scoped>\n",
       "    .dataframe tbody tr th:only-of-type {\n",
       "        vertical-align: middle;\n",
       "    }\n",
       "\n",
       "    .dataframe tbody tr th {\n",
       "        vertical-align: top;\n",
       "    }\n",
       "\n",
       "    .dataframe thead th {\n",
       "        text-align: right;\n",
       "    }\n",
       "</style>\n",
       "<table border=\"1\" class=\"dataframe\">\n",
       "  <thead>\n",
       "    <tr style=\"text-align: right;\">\n",
       "      <th></th>\n",
       "      <th>date_block_num</th>\n",
       "      <th>shop_id</th>\n",
       "      <th>item_id</th>\n",
       "      <th>item_price</th>\n",
       "      <th>item_cnt_day</th>\n",
       "      <th>item_category_id</th>\n",
       "    </tr>\n",
       "  </thead>\n",
       "  <tbody>\n",
       "    <tr>\n",
       "      <th>count</th>\n",
       "      <td>2935849.00</td>\n",
       "      <td>2935849.00</td>\n",
       "      <td>2935849.00</td>\n",
       "      <td>2935849.00</td>\n",
       "      <td>2935849.00</td>\n",
       "      <td>2935849.00</td>\n",
       "    </tr>\n",
       "    <tr>\n",
       "      <th>mean</th>\n",
       "      <td>14.57</td>\n",
       "      <td>33.00</td>\n",
       "      <td>10197.23</td>\n",
       "      <td>890.62</td>\n",
       "      <td>1.24</td>\n",
       "      <td>40.00</td>\n",
       "    </tr>\n",
       "    <tr>\n",
       "      <th>std</th>\n",
       "      <td>9.42</td>\n",
       "      <td>16.23</td>\n",
       "      <td>6324.30</td>\n",
       "      <td>1726.44</td>\n",
       "      <td>2.62</td>\n",
       "      <td>17.10</td>\n",
       "    </tr>\n",
       "    <tr>\n",
       "      <th>min</th>\n",
       "      <td>0.00</td>\n",
       "      <td>0.00</td>\n",
       "      <td>0.00</td>\n",
       "      <td>-1.00</td>\n",
       "      <td>-22.00</td>\n",
       "      <td>0.00</td>\n",
       "    </tr>\n",
       "    <tr>\n",
       "      <th>25%</th>\n",
       "      <td>7.00</td>\n",
       "      <td>22.00</td>\n",
       "      <td>4476.00</td>\n",
       "      <td>249.00</td>\n",
       "      <td>1.00</td>\n",
       "      <td>28.00</td>\n",
       "    </tr>\n",
       "    <tr>\n",
       "      <th>50%</th>\n",
       "      <td>14.00</td>\n",
       "      <td>31.00</td>\n",
       "      <td>9343.00</td>\n",
       "      <td>399.00</td>\n",
       "      <td>1.00</td>\n",
       "      <td>40.00</td>\n",
       "    </tr>\n",
       "    <tr>\n",
       "      <th>75%</th>\n",
       "      <td>23.00</td>\n",
       "      <td>47.00</td>\n",
       "      <td>15684.00</td>\n",
       "      <td>999.00</td>\n",
       "      <td>1.00</td>\n",
       "      <td>55.00</td>\n",
       "    </tr>\n",
       "    <tr>\n",
       "      <th>max</th>\n",
       "      <td>33.00</td>\n",
       "      <td>59.00</td>\n",
       "      <td>22169.00</td>\n",
       "      <td>307980.00</td>\n",
       "      <td>2169.00</td>\n",
       "      <td>83.00</td>\n",
       "    </tr>\n",
       "  </tbody>\n",
       "</table>\n",
       "</div>"
      ],
      "text/plain": [
       "       date_block_num    shop_id    item_id  item_price  item_cnt_day  \\\n",
       "count      2935849.00 2935849.00 2935849.00  2935849.00    2935849.00   \n",
       "mean            14.57      33.00   10197.23      890.62          1.24   \n",
       "std              9.42      16.23    6324.30     1726.44          2.62   \n",
       "min              0.00       0.00       0.00       -1.00        -22.00   \n",
       "25%              7.00      22.00    4476.00      249.00          1.00   \n",
       "50%             14.00      31.00    9343.00      399.00          1.00   \n",
       "75%             23.00      47.00   15684.00      999.00          1.00   \n",
       "max             33.00      59.00   22169.00   307980.00       2169.00   \n",
       "\n",
       "       item_category_id  \n",
       "count        2935849.00  \n",
       "mean              40.00  \n",
       "std               17.10  \n",
       "min                0.00  \n",
       "25%               28.00  \n",
       "50%               40.00  \n",
       "75%               55.00  \n",
       "max               83.00  "
      ]
     },
     "metadata": {},
     "output_type": "display_data"
    }
   ],
   "source": [
    "print(f'Train rows: {train.shape[0]}')\n",
    "print(f'Train columns: {train.shape[1]}')\n",
    "\n",
    "display(train.head().T)\n",
    "display(train.describe())"
   ]
  },
  {
   "cell_type": "markdown",
   "metadata": {
    "_uuid": "a652e387ae6ead95eff1d00b7c81592f4f771a3d",
    "papermill": {
     "duration": 0.04832,
     "end_time": "2020-10-11T14:08:47.573535",
     "exception": false,
     "start_time": "2020-10-11T14:08:47.525215",
     "status": "completed"
    },
    "tags": []
   },
   "source": [
    "### Time period of the dataset"
   ]
  },
  {
   "cell_type": "code",
   "execution_count": 5,
   "metadata": {
    "_kg_hide-input": true,
    "_uuid": "1fbb85b7b3fceb0d23a22717f0f4214afb46aba3",
    "execution": {
     "iopub.execute_input": "2020-10-11T14:08:47.674619Z",
     "iopub.status.busy": "2020-10-11T14:08:47.673664Z",
     "iopub.status.idle": "2020-10-11T14:08:47.702684Z",
     "shell.execute_reply": "2020-10-11T14:08:47.702121Z"
    },
    "papermill": {
     "duration": 0.080282,
     "end_time": "2020-10-11T14:08:47.702826",
     "exception": false,
     "start_time": "2020-10-11T14:08:47.622544",
     "status": "completed"
    },
    "tags": []
   },
   "outputs": [
    {
     "name": "stdout",
     "output_type": "stream",
     "text": [
      "Min date from train set: 2013-01-01\n",
      "Max date from train set: 2015-12-10\n"
     ]
    }
   ],
   "source": [
    "print(f\"Min date from train set: {train['date'].min().date()}\")\n",
    "print(f\"Max date from train set: {train['date'].max().date()}\")"
   ]
  },
  {
   "cell_type": "markdown",
   "metadata": {
    "_uuid": "5d8d4d0e33aa3debe590f277a6290086d4e96561",
    "papermill": {
     "duration": 0.047117,
     "end_time": "2020-10-11T14:08:47.797649",
     "exception": false,
     "start_time": "2020-10-11T14:08:47.750532",
     "status": "completed"
    },
    "tags": []
   },
   "source": [
    "I'm leaving only the \"shop_id\" and \"item_id\" that exist in the test set to have more accurate results."
   ]
  },
  {
   "cell_type": "code",
   "execution_count": 6,
   "metadata": {
    "_uuid": "7c147d419e724712336da759c111117f90b3f435",
    "execution": {
     "iopub.execute_input": "2020-10-11T14:08:47.898020Z",
     "iopub.status.busy": "2020-10-11T14:08:47.897101Z",
     "iopub.status.idle": "2020-10-11T14:08:48.481426Z",
     "shell.execute_reply": "2020-10-11T14:08:48.482001Z"
    },
    "papermill": {
     "duration": 0.638628,
     "end_time": "2020-10-11T14:08:48.482183",
     "exception": false,
     "start_time": "2020-10-11T14:08:47.843555",
     "status": "completed"
    },
    "tags": []
   },
   "outputs": [],
   "source": [
    "test_shop_ids = test['shop_id'].unique()\n",
    "test_item_ids = test['item_id'].unique()\n",
    "# Only shops that exist in test set.\n",
    "train = train[train['shop_id'].isin(test_shop_ids)]\n",
    "# Only items that exist in test set.\n",
    "train = train[train['item_id'].isin(test_item_ids)]"
   ]
  },
  {
   "cell_type": "markdown",
   "metadata": {
    "_uuid": "7157a7ea84c7d7e024ce8518d4b6c646e6ca2cd4",
    "papermill": {
     "duration": 0.047095,
     "end_time": "2020-10-11T14:08:48.577734",
     "exception": false,
     "start_time": "2020-10-11T14:08:48.530639",
     "status": "completed"
    },
    "tags": []
   },
   "source": [
    "# Data preprocessing\n",
    "* I'm dropping all features but \"item_cnt_day\" because I'll be using only it as a univariate time-series.\n",
    "* We are asked to predict total sales for every product and store in the next month, and our data is given by day, so let's aggregate the data by month.\n",
    "* Also I'm leaving only monthly \"item_cnt\" >= 0 and <= 20, as this seems to be the distributions of the test set."
   ]
  },
  {
   "cell_type": "code",
   "execution_count": 7,
   "metadata": {
    "_uuid": "0cfa016f89affd460f056a8107cfc8f345773907",
    "execution": {
     "iopub.execute_input": "2020-10-11T14:08:48.699998Z",
     "iopub.status.busy": "2020-10-11T14:08:48.699086Z",
     "iopub.status.idle": "2020-10-11T14:08:49.579297Z",
     "shell.execute_reply": "2020-10-11T14:08:49.579994Z"
    },
    "papermill": {
     "duration": 0.94789,
     "end_time": "2020-10-11T14:08:49.580167",
     "exception": false,
     "start_time": "2020-10-11T14:08:48.632277",
     "status": "completed"
    },
    "tags": []
   },
   "outputs": [
    {
     "data": {
      "text/html": [
       "<div>\n",
       "<style scoped>\n",
       "    .dataframe tbody tr th:only-of-type {\n",
       "        vertical-align: middle;\n",
       "    }\n",
       "\n",
       "    .dataframe tbody tr th {\n",
       "        vertical-align: top;\n",
       "    }\n",
       "\n",
       "    .dataframe thead th {\n",
       "        text-align: right;\n",
       "    }\n",
       "</style>\n",
       "<table border=\"1\" class=\"dataframe\">\n",
       "  <thead>\n",
       "    <tr style=\"text-align: right;\">\n",
       "      <th></th>\n",
       "      <th>0</th>\n",
       "      <th>1</th>\n",
       "      <th>2</th>\n",
       "      <th>3</th>\n",
       "      <th>4</th>\n",
       "      <th>5</th>\n",
       "      <th>6</th>\n",
       "      <th>7</th>\n",
       "      <th>8</th>\n",
       "      <th>9</th>\n",
       "    </tr>\n",
       "  </thead>\n",
       "  <tbody>\n",
       "    <tr>\n",
       "      <th>date_block_num</th>\n",
       "      <td>0.00</td>\n",
       "      <td>0.00</td>\n",
       "      <td>0.00</td>\n",
       "      <td>0.00</td>\n",
       "      <td>0.00</td>\n",
       "      <td>0.00</td>\n",
       "      <td>0.00</td>\n",
       "      <td>0.00</td>\n",
       "      <td>0.00</td>\n",
       "      <td>0.00</td>\n",
       "    </tr>\n",
       "    <tr>\n",
       "      <th>shop_id</th>\n",
       "      <td>2.00</td>\n",
       "      <td>2.00</td>\n",
       "      <td>2.00</td>\n",
       "      <td>2.00</td>\n",
       "      <td>2.00</td>\n",
       "      <td>2.00</td>\n",
       "      <td>2.00</td>\n",
       "      <td>2.00</td>\n",
       "      <td>2.00</td>\n",
       "      <td>2.00</td>\n",
       "    </tr>\n",
       "    <tr>\n",
       "      <th>item_id</th>\n",
       "      <td>33.00</td>\n",
       "      <td>482.00</td>\n",
       "      <td>491.00</td>\n",
       "      <td>839.00</td>\n",
       "      <td>1007.00</td>\n",
       "      <td>1010.00</td>\n",
       "      <td>1023.00</td>\n",
       "      <td>1204.00</td>\n",
       "      <td>1224.00</td>\n",
       "      <td>1247.00</td>\n",
       "    </tr>\n",
       "    <tr>\n",
       "      <th>item_cnt</th>\n",
       "      <td>1.00</td>\n",
       "      <td>1.00</td>\n",
       "      <td>1.00</td>\n",
       "      <td>1.00</td>\n",
       "      <td>3.00</td>\n",
       "      <td>1.00</td>\n",
       "      <td>2.00</td>\n",
       "      <td>1.00</td>\n",
       "      <td>1.00</td>\n",
       "      <td>1.00</td>\n",
       "    </tr>\n",
       "    <tr>\n",
       "      <th>item_cnt_month</th>\n",
       "      <td>2.00</td>\n",
       "      <td>1.00</td>\n",
       "      <td>1.00</td>\n",
       "      <td>1.00</td>\n",
       "      <td>1.00</td>\n",
       "      <td>1.00</td>\n",
       "      <td>1.00</td>\n",
       "      <td>nan</td>\n",
       "      <td>nan</td>\n",
       "      <td>nan</td>\n",
       "    </tr>\n",
       "  </tbody>\n",
       "</table>\n",
       "</div>"
      ],
      "text/plain": [
       "                   0      1      2      3       4       5       6       7  \\\n",
       "date_block_num  0.00   0.00   0.00   0.00    0.00    0.00    0.00    0.00   \n",
       "shop_id         2.00   2.00   2.00   2.00    2.00    2.00    2.00    2.00   \n",
       "item_id        33.00 482.00 491.00 839.00 1007.00 1010.00 1023.00 1204.00   \n",
       "item_cnt        1.00   1.00   1.00   1.00    3.00    1.00    2.00    1.00   \n",
       "item_cnt_month  2.00   1.00   1.00   1.00    1.00    1.00    1.00     nan   \n",
       "\n",
       "                     8       9  \n",
       "date_block_num    0.00    0.00  \n",
       "shop_id           2.00    2.00  \n",
       "item_id        1224.00 1247.00  \n",
       "item_cnt          1.00    1.00  \n",
       "item_cnt_month     nan     nan  "
      ]
     },
     "metadata": {},
     "output_type": "display_data"
    },
    {
     "data": {
      "text/html": [
       "<div>\n",
       "<style scoped>\n",
       "    .dataframe tbody tr th:only-of-type {\n",
       "        vertical-align: middle;\n",
       "    }\n",
       "\n",
       "    .dataframe tbody tr th {\n",
       "        vertical-align: top;\n",
       "    }\n",
       "\n",
       "    .dataframe thead th {\n",
       "        text-align: right;\n",
       "    }\n",
       "</style>\n",
       "<table border=\"1\" class=\"dataframe\">\n",
       "  <thead>\n",
       "    <tr style=\"text-align: right;\">\n",
       "      <th></th>\n",
       "      <th>count</th>\n",
       "      <th>mean</th>\n",
       "      <th>std</th>\n",
       "      <th>min</th>\n",
       "      <th>25%</th>\n",
       "      <th>50%</th>\n",
       "      <th>75%</th>\n",
       "      <th>max</th>\n",
       "    </tr>\n",
       "  </thead>\n",
       "  <tbody>\n",
       "    <tr>\n",
       "      <th>date_block_num</th>\n",
       "      <td>593829.00</td>\n",
       "      <td>20.18</td>\n",
       "      <td>9.14</td>\n",
       "      <td>0.00</td>\n",
       "      <td>13.00</td>\n",
       "      <td>22.00</td>\n",
       "      <td>28.00</td>\n",
       "      <td>33.00</td>\n",
       "    </tr>\n",
       "    <tr>\n",
       "      <th>shop_id</th>\n",
       "      <td>593829.00</td>\n",
       "      <td>32.07</td>\n",
       "      <td>16.90</td>\n",
       "      <td>2.00</td>\n",
       "      <td>19.00</td>\n",
       "      <td>31.00</td>\n",
       "      <td>47.00</td>\n",
       "      <td>59.00</td>\n",
       "    </tr>\n",
       "    <tr>\n",
       "      <th>item_id</th>\n",
       "      <td>593829.00</td>\n",
       "      <td>10015.02</td>\n",
       "      <td>6181.82</td>\n",
       "      <td>30.00</td>\n",
       "      <td>4418.00</td>\n",
       "      <td>9171.00</td>\n",
       "      <td>15334.00</td>\n",
       "      <td>22167.00</td>\n",
       "    </tr>\n",
       "    <tr>\n",
       "      <th>item_cnt</th>\n",
       "      <td>593829.00</td>\n",
       "      <td>2.10</td>\n",
       "      <td>2.31</td>\n",
       "      <td>0.00</td>\n",
       "      <td>1.00</td>\n",
       "      <td>1.00</td>\n",
       "      <td>2.00</td>\n",
       "      <td>20.00</td>\n",
       "    </tr>\n",
       "    <tr>\n",
       "      <th>item_cnt_month</th>\n",
       "      <td>482536.00</td>\n",
       "      <td>2.07</td>\n",
       "      <td>2.17</td>\n",
       "      <td>0.00</td>\n",
       "      <td>1.00</td>\n",
       "      <td>1.00</td>\n",
       "      <td>2.00</td>\n",
       "      <td>20.00</td>\n",
       "    </tr>\n",
       "  </tbody>\n",
       "</table>\n",
       "</div>"
      ],
      "text/plain": [
       "                   count     mean     std   min     25%     50%      75%  \\\n",
       "date_block_num 593829.00    20.18    9.14  0.00   13.00   22.00    28.00   \n",
       "shop_id        593829.00    32.07   16.90  2.00   19.00   31.00    47.00   \n",
       "item_id        593829.00 10015.02 6181.82 30.00 4418.00 9171.00 15334.00   \n",
       "item_cnt       593829.00     2.10    2.31  0.00    1.00    1.00     2.00   \n",
       "item_cnt_month 482536.00     2.07    2.17  0.00    1.00    1.00     2.00   \n",
       "\n",
       "                    max  \n",
       "date_block_num    33.00  \n",
       "shop_id           59.00  \n",
       "item_id        22167.00  \n",
       "item_cnt          20.00  \n",
       "item_cnt_month    20.00  "
      ]
     },
     "metadata": {},
     "output_type": "display_data"
    }
   ],
   "source": [
    "train_monthly = train[['date', 'date_block_num', 'shop_id', 'item_id', 'item_cnt_day']]\n",
    "train_monthly = train_monthly.sort_values('date').groupby(['date_block_num', 'shop_id', 'item_id'], as_index=False)\n",
    "train_monthly = train_monthly.agg({'item_cnt_day':['sum']})\n",
    "train_monthly.columns = ['date_block_num', 'shop_id', 'item_id', 'item_cnt']\n",
    "train_monthly = train_monthly.query('item_cnt >= 0 and item_cnt <= 20')\n",
    "# Label\n",
    "train_monthly['item_cnt_month'] = train_monthly.sort_values('date_block_num').groupby(['shop_id', 'item_id'])['item_cnt'].shift(-1)\n",
    "\n",
    "display(train_monthly.head(10).T)\n",
    "display(train_monthly.describe().T)"
   ]
  },
  {
   "cell_type": "markdown",
   "metadata": {
    "_uuid": "bf8d9e20db300f5b1253b4453320d4b61c27fcba",
    "papermill": {
     "duration": 0.049635,
     "end_time": "2020-10-11T14:08:49.679172",
     "exception": false,
     "start_time": "2020-10-11T14:08:49.629537",
     "status": "completed"
    },
    "tags": []
   },
   "source": [
    "# Time-series processing\n",
    "* As I only need the \"item_cnt\" feature as a series, I can get that easily by just using a pivot operation.\n",
    "* This way I'll also get the missing months from each \"shop_id\" and \"item_id\", and then replace them with 0 (otherwise would be \"nan\"). "
   ]
  },
  {
   "cell_type": "code",
   "execution_count": 8,
   "metadata": {
    "_uuid": "9eab7851850f95623ccccdbf000ece06d1bb8ff4",
    "execution": {
     "iopub.execute_input": "2020-10-11T14:08:49.792725Z",
     "iopub.status.busy": "2020-10-11T14:08:49.791842Z",
     "iopub.status.idle": "2020-10-11T14:08:50.557542Z",
     "shell.execute_reply": "2020-10-11T14:08:50.558336Z"
    },
    "papermill": {
     "duration": 0.830831,
     "end_time": "2020-10-11T14:08:50.558529",
     "exception": false,
     "start_time": "2020-10-11T14:08:49.727698",
     "status": "completed"
    },
    "tags": []
   },
   "outputs": [
    {
     "data": {
      "text/html": [
       "<div>\n",
       "<style scoped>\n",
       "    .dataframe tbody tr th:only-of-type {\n",
       "        vertical-align: middle;\n",
       "    }\n",
       "\n",
       "    .dataframe tbody tr th {\n",
       "        vertical-align: top;\n",
       "    }\n",
       "\n",
       "    .dataframe thead th {\n",
       "        text-align: right;\n",
       "    }\n",
       "</style>\n",
       "<table border=\"1\" class=\"dataframe\">\n",
       "  <thead>\n",
       "    <tr style=\"text-align: right;\">\n",
       "      <th>date_block_num</th>\n",
       "      <th>shop_id</th>\n",
       "      <th>item_id</th>\n",
       "      <th>0</th>\n",
       "      <th>1</th>\n",
       "      <th>2</th>\n",
       "      <th>3</th>\n",
       "      <th>4</th>\n",
       "      <th>5</th>\n",
       "      <th>6</th>\n",
       "      <th>7</th>\n",
       "      <th>...</th>\n",
       "      <th>24</th>\n",
       "      <th>25</th>\n",
       "      <th>26</th>\n",
       "      <th>27</th>\n",
       "      <th>28</th>\n",
       "      <th>29</th>\n",
       "      <th>30</th>\n",
       "      <th>31</th>\n",
       "      <th>32</th>\n",
       "      <th>33</th>\n",
       "    </tr>\n",
       "  </thead>\n",
       "  <tbody>\n",
       "    <tr>\n",
       "      <th>0</th>\n",
       "      <td>2</td>\n",
       "      <td>30</td>\n",
       "      <td>0</td>\n",
       "      <td>0</td>\n",
       "      <td>1</td>\n",
       "      <td>0</td>\n",
       "      <td>0</td>\n",
       "      <td>1</td>\n",
       "      <td>0</td>\n",
       "      <td>0</td>\n",
       "      <td>...</td>\n",
       "      <td>0</td>\n",
       "      <td>0</td>\n",
       "      <td>0</td>\n",
       "      <td>0</td>\n",
       "      <td>0</td>\n",
       "      <td>0</td>\n",
       "      <td>0</td>\n",
       "      <td>0</td>\n",
       "      <td>0</td>\n",
       "      <td>0</td>\n",
       "    </tr>\n",
       "    <tr>\n",
       "      <th>1</th>\n",
       "      <td>2</td>\n",
       "      <td>31</td>\n",
       "      <td>0</td>\n",
       "      <td>4</td>\n",
       "      <td>1</td>\n",
       "      <td>1</td>\n",
       "      <td>0</td>\n",
       "      <td>0</td>\n",
       "      <td>0</td>\n",
       "      <td>0</td>\n",
       "      <td>...</td>\n",
       "      <td>0</td>\n",
       "      <td>0</td>\n",
       "      <td>0</td>\n",
       "      <td>0</td>\n",
       "      <td>0</td>\n",
       "      <td>0</td>\n",
       "      <td>0</td>\n",
       "      <td>0</td>\n",
       "      <td>0</td>\n",
       "      <td>1</td>\n",
       "    </tr>\n",
       "    <tr>\n",
       "      <th>2</th>\n",
       "      <td>2</td>\n",
       "      <td>32</td>\n",
       "      <td>0</td>\n",
       "      <td>0</td>\n",
       "      <td>0</td>\n",
       "      <td>0</td>\n",
       "      <td>0</td>\n",
       "      <td>0</td>\n",
       "      <td>0</td>\n",
       "      <td>0</td>\n",
       "      <td>...</td>\n",
       "      <td>0</td>\n",
       "      <td>0</td>\n",
       "      <td>1</td>\n",
       "      <td>0</td>\n",
       "      <td>0</td>\n",
       "      <td>0</td>\n",
       "      <td>0</td>\n",
       "      <td>1</td>\n",
       "      <td>0</td>\n",
       "      <td>0</td>\n",
       "    </tr>\n",
       "    <tr>\n",
       "      <th>3</th>\n",
       "      <td>2</td>\n",
       "      <td>33</td>\n",
       "      <td>1</td>\n",
       "      <td>0</td>\n",
       "      <td>0</td>\n",
       "      <td>0</td>\n",
       "      <td>0</td>\n",
       "      <td>0</td>\n",
       "      <td>0</td>\n",
       "      <td>0</td>\n",
       "      <td>...</td>\n",
       "      <td>0</td>\n",
       "      <td>1</td>\n",
       "      <td>0</td>\n",
       "      <td>1</td>\n",
       "      <td>1</td>\n",
       "      <td>0</td>\n",
       "      <td>1</td>\n",
       "      <td>0</td>\n",
       "      <td>1</td>\n",
       "      <td>0</td>\n",
       "    </tr>\n",
       "    <tr>\n",
       "      <th>4</th>\n",
       "      <td>2</td>\n",
       "      <td>53</td>\n",
       "      <td>0</td>\n",
       "      <td>0</td>\n",
       "      <td>0</td>\n",
       "      <td>0</td>\n",
       "      <td>0</td>\n",
       "      <td>0</td>\n",
       "      <td>0</td>\n",
       "      <td>0</td>\n",
       "      <td>...</td>\n",
       "      <td>0</td>\n",
       "      <td>1</td>\n",
       "      <td>0</td>\n",
       "      <td>0</td>\n",
       "      <td>0</td>\n",
       "      <td>0</td>\n",
       "      <td>0</td>\n",
       "      <td>0</td>\n",
       "      <td>0</td>\n",
       "      <td>0</td>\n",
       "    </tr>\n",
       "  </tbody>\n",
       "</table>\n",
       "<p>5 rows × 36 columns</p>\n",
       "</div>"
      ],
      "text/plain": [
       "date_block_num  shop_id  item_id  0  1  2  3  4  5  6  7  ...  24  25  26  27  \\\n",
       "0                     2       30  0  0  1  0  0  1  0  0  ...   0   0   0   0   \n",
       "1                     2       31  0  4  1  1  0  0  0  0  ...   0   0   0   0   \n",
       "2                     2       32  0  0  0  0  0  0  0  0  ...   0   0   1   0   \n",
       "3                     2       33  1  0  0  0  0  0  0  0  ...   0   1   0   1   \n",
       "4                     2       53  0  0  0  0  0  0  0  0  ...   0   1   0   0   \n",
       "\n",
       "date_block_num  28  29  30  31  32  33  \n",
       "0                0   0   0   0   0   0  \n",
       "1                0   0   0   0   0   1  \n",
       "2                0   0   0   1   0   0  \n",
       "3                1   0   1   0   1   0  \n",
       "4                0   0   0   0   0   0  \n",
       "\n",
       "[5 rows x 36 columns]"
      ]
     },
     "execution_count": 8,
     "metadata": {},
     "output_type": "execute_result"
    }
   ],
   "source": [
    "monthly_series = train_monthly.pivot_table(index=['shop_id', 'item_id'], columns='date_block_num',values='item_cnt', fill_value=0).reset_index()\n",
    "monthly_series.head()"
   ]
  },
  {
   "cell_type": "markdown",
   "metadata": {
    "_uuid": "9cbe681a798f5c2d2183233e4c77db1721c41511",
    "papermill": {
     "duration": 0.049316,
     "end_time": "2020-10-11T14:08:50.659704",
     "exception": false,
     "start_time": "2020-10-11T14:08:50.610388",
     "status": "completed"
    },
    "tags": []
   },
   "source": [
    "#### Currently I have one series (33 months) for each unique pair of \"shop_id\" and \"item_id\", but probably would be better to have multiple smaller series for each unique pair, so I'm generating multiple series of size 12 (one year) for each unique pair."
   ]
  },
  {
   "cell_type": "code",
   "execution_count": 9,
   "metadata": {
    "_uuid": "dc9089997b7bb9342d5a26583c8722c81c951e4e",
    "execution": {
     "iopub.execute_input": "2020-10-11T14:08:50.772033Z",
     "iopub.status.busy": "2020-10-11T14:08:50.770152Z",
     "iopub.status.idle": "2020-10-11T14:09:29.614239Z",
     "shell.execute_reply": "2020-10-11T14:09:29.614747Z"
    },
    "papermill": {
     "duration": 38.905223,
     "end_time": "2020-10-11T14:09:29.614882",
     "exception": false,
     "start_time": "2020-10-11T14:08:50.709659",
     "status": "completed"
    },
    "tags": []
   },
   "outputs": [
    {
     "data": {
      "text/html": [
       "<div>\n",
       "<style scoped>\n",
       "    .dataframe tbody tr th:only-of-type {\n",
       "        vertical-align: middle;\n",
       "    }\n",
       "\n",
       "    .dataframe tbody tr th {\n",
       "        vertical-align: top;\n",
       "    }\n",
       "\n",
       "    .dataframe thead th {\n",
       "        text-align: right;\n",
       "    }\n",
       "</style>\n",
       "<table border=\"1\" class=\"dataframe\">\n",
       "  <thead>\n",
       "    <tr style=\"text-align: right;\">\n",
       "      <th></th>\n",
       "      <th>shop_id</th>\n",
       "      <th>item_id</th>\n",
       "      <th>0</th>\n",
       "      <th>1</th>\n",
       "      <th>2</th>\n",
       "      <th>3</th>\n",
       "      <th>4</th>\n",
       "      <th>5</th>\n",
       "      <th>6</th>\n",
       "      <th>7</th>\n",
       "      <th>8</th>\n",
       "      <th>9</th>\n",
       "      <th>10</th>\n",
       "      <th>11</th>\n",
       "      <th>label</th>\n",
       "    </tr>\n",
       "  </thead>\n",
       "  <tbody>\n",
       "    <tr>\n",
       "      <th>0</th>\n",
       "      <td>2</td>\n",
       "      <td>30</td>\n",
       "      <td>0</td>\n",
       "      <td>0</td>\n",
       "      <td>0</td>\n",
       "      <td>0</td>\n",
       "      <td>0</td>\n",
       "      <td>0</td>\n",
       "      <td>0</td>\n",
       "      <td>0</td>\n",
       "      <td>0</td>\n",
       "      <td>0</td>\n",
       "      <td>0</td>\n",
       "      <td>0</td>\n",
       "      <td>0</td>\n",
       "    </tr>\n",
       "    <tr>\n",
       "      <th>1</th>\n",
       "      <td>2</td>\n",
       "      <td>30</td>\n",
       "      <td>0</td>\n",
       "      <td>0</td>\n",
       "      <td>0</td>\n",
       "      <td>0</td>\n",
       "      <td>0</td>\n",
       "      <td>0</td>\n",
       "      <td>0</td>\n",
       "      <td>0</td>\n",
       "      <td>0</td>\n",
       "      <td>0</td>\n",
       "      <td>0</td>\n",
       "      <td>0</td>\n",
       "      <td>0</td>\n",
       "    </tr>\n",
       "    <tr>\n",
       "      <th>2</th>\n",
       "      <td>2</td>\n",
       "      <td>31</td>\n",
       "      <td>0</td>\n",
       "      <td>0</td>\n",
       "      <td>0</td>\n",
       "      <td>0</td>\n",
       "      <td>0</td>\n",
       "      <td>0</td>\n",
       "      <td>0</td>\n",
       "      <td>0</td>\n",
       "      <td>0</td>\n",
       "      <td>0</td>\n",
       "      <td>0</td>\n",
       "      <td>0</td>\n",
       "      <td>0</td>\n",
       "    </tr>\n",
       "    <tr>\n",
       "      <th>3</th>\n",
       "      <td>2</td>\n",
       "      <td>31</td>\n",
       "      <td>0</td>\n",
       "      <td>0</td>\n",
       "      <td>0</td>\n",
       "      <td>0</td>\n",
       "      <td>0</td>\n",
       "      <td>0</td>\n",
       "      <td>0</td>\n",
       "      <td>0</td>\n",
       "      <td>0</td>\n",
       "      <td>0</td>\n",
       "      <td>0</td>\n",
       "      <td>0</td>\n",
       "      <td>1</td>\n",
       "    </tr>\n",
       "    <tr>\n",
       "      <th>4</th>\n",
       "      <td>2</td>\n",
       "      <td>32</td>\n",
       "      <td>2</td>\n",
       "      <td>2</td>\n",
       "      <td>0</td>\n",
       "      <td>2</td>\n",
       "      <td>0</td>\n",
       "      <td>0</td>\n",
       "      <td>1</td>\n",
       "      <td>0</td>\n",
       "      <td>0</td>\n",
       "      <td>0</td>\n",
       "      <td>0</td>\n",
       "      <td>1</td>\n",
       "      <td>0</td>\n",
       "    </tr>\n",
       "  </tbody>\n",
       "</table>\n",
       "</div>"
      ],
      "text/plain": [
       "   shop_id  item_id  0  1  2  3  4  5  6  7  8  9  10  11  label\n",
       "0        2       30  0  0  0  0  0  0  0  0  0  0   0   0      0\n",
       "1        2       30  0  0  0  0  0  0  0  0  0  0   0   0      0\n",
       "2        2       31  0  0  0  0  0  0  0  0  0  0   0   0      0\n",
       "3        2       31  0  0  0  0  0  0  0  0  0  0   0   0      1\n",
       "4        2       32  2  2  0  2  0  0  1  0  0  0   0   1      0"
      ]
     },
     "execution_count": 9,
     "metadata": {},
     "output_type": "execute_result"
    }
   ],
   "source": [
    "first_month = 20\n",
    "last_month = 33\n",
    "serie_size = 12\n",
    "data_series = []\n",
    "\n",
    "for index, row in monthly_series.iterrows():\n",
    "    for month1 in range((last_month - (first_month + serie_size)) + 1):\n",
    "        serie = [row['shop_id'], row['item_id']]\n",
    "        for month2 in range(serie_size + 1):\n",
    "            serie.append(row[month1 + first_month + month2])\n",
    "        data_series.append(serie)\n",
    "\n",
    "columns = ['shop_id', 'item_id']\n",
    "[columns.append(i) for i in range(serie_size)]\n",
    "columns.append('label')\n",
    "\n",
    "data_series = pd.DataFrame(data_series, columns=columns)\n",
    "data_series.head()"
   ]
  },
  {
   "cell_type": "markdown",
   "metadata": {
    "_uuid": "0edbab0817b24c8cfe7c4739cc43bd8668b057be",
    "papermill": {
     "duration": 0.050039,
     "end_time": "2020-10-11T14:09:29.715168",
     "exception": false,
     "start_time": "2020-10-11T14:09:29.665129",
     "status": "completed"
    },
    "tags": []
   },
   "source": [
    "#### Dropping identifier columns as we don't need them anymore."
   ]
  },
  {
   "cell_type": "code",
   "execution_count": 10,
   "metadata": {
    "_uuid": "5e837661c8880b5bf4205dc263d32fb3b9a75eee",
    "execution": {
     "iopub.execute_input": "2020-10-11T14:09:29.845831Z",
     "iopub.status.busy": "2020-10-11T14:09:29.845149Z",
     "iopub.status.idle": "2020-10-11T14:09:29.848796Z",
     "shell.execute_reply": "2020-10-11T14:09:29.848263Z"
    },
    "papermill": {
     "duration": 0.064993,
     "end_time": "2020-10-11T14:09:29.848893",
     "exception": false,
     "start_time": "2020-10-11T14:09:29.783900",
     "status": "completed"
    },
    "tags": []
   },
   "outputs": [],
   "source": [
    "data_series = data_series.drop(['item_id', 'shop_id'], axis=1)"
   ]
  },
  {
   "cell_type": "markdown",
   "metadata": {
    "_uuid": "a4f0279dc5228c07a85a70631bf0a52044efdbd3",
    "papermill": {
     "duration": 0.049209,
     "end_time": "2020-10-11T14:09:29.949930",
     "exception": false,
     "start_time": "2020-10-11T14:09:29.900721",
     "status": "completed"
    },
    "tags": []
   },
   "source": [
    "### Train and validation sets."
   ]
  },
  {
   "cell_type": "code",
   "execution_count": 11,
   "metadata": {
    "_uuid": "9fa3580649586a0386ab21c9a63110f66128f4e2",
    "execution": {
     "iopub.execute_input": "2020-10-11T14:09:30.067313Z",
     "iopub.status.busy": "2020-10-11T14:09:30.066490Z",
     "iopub.status.idle": "2020-10-11T14:09:30.108709Z",
     "shell.execute_reply": "2020-10-11T14:09:30.108160Z"
    },
    "papermill": {
     "duration": 0.107252,
     "end_time": "2020-10-11T14:09:30.108832",
     "exception": false,
     "start_time": "2020-10-11T14:09:30.001580",
     "status": "completed"
    },
    "tags": []
   },
   "outputs": [],
   "source": [
    "labels = data_series['label']\n",
    "data_series.drop('label', axis=1, inplace=True)\n",
    "train, valid, Y_train, Y_valid = train_test_split(data_series, labels.values, test_size=0.10, random_state=0)"
   ]
  },
  {
   "cell_type": "code",
   "execution_count": 12,
   "metadata": {
    "_kg_hide-input": true,
    "_uuid": "ac03abac4fb361e40d589f56aa360d2657b190e0",
    "execution": {
     "iopub.execute_input": "2020-10-11T14:09:30.225134Z",
     "iopub.status.busy": "2020-10-11T14:09:30.224075Z",
     "iopub.status.idle": "2020-10-11T14:09:30.229752Z",
     "shell.execute_reply": "2020-10-11T14:09:30.230259Z"
    },
    "papermill": {
     "duration": 0.072003,
     "end_time": "2020-10-11T14:09:30.230378",
     "exception": false,
     "start_time": "2020-10-11T14:09:30.158375",
     "status": "completed"
    },
    "tags": []
   },
   "outputs": [
    {
     "name": "stdout",
     "output_type": "stream",
     "text": [
      "Train set (200327, 12)\n",
      "Validation set (22259, 12)\n"
     ]
    },
    {
     "data": {
      "text/html": [
       "<div>\n",
       "<style scoped>\n",
       "    .dataframe tbody tr th:only-of-type {\n",
       "        vertical-align: middle;\n",
       "    }\n",
       "\n",
       "    .dataframe tbody tr th {\n",
       "        vertical-align: top;\n",
       "    }\n",
       "\n",
       "    .dataframe thead th {\n",
       "        text-align: right;\n",
       "    }\n",
       "</style>\n",
       "<table border=\"1\" class=\"dataframe\">\n",
       "  <thead>\n",
       "    <tr style=\"text-align: right;\">\n",
       "      <th></th>\n",
       "      <th>0</th>\n",
       "      <th>1</th>\n",
       "      <th>2</th>\n",
       "      <th>3</th>\n",
       "      <th>4</th>\n",
       "      <th>5</th>\n",
       "      <th>6</th>\n",
       "      <th>7</th>\n",
       "      <th>8</th>\n",
       "      <th>9</th>\n",
       "      <th>10</th>\n",
       "      <th>11</th>\n",
       "    </tr>\n",
       "  </thead>\n",
       "  <tbody>\n",
       "    <tr>\n",
       "      <th>207604</th>\n",
       "      <td>0</td>\n",
       "      <td>0</td>\n",
       "      <td>0</td>\n",
       "      <td>0</td>\n",
       "      <td>0</td>\n",
       "      <td>0</td>\n",
       "      <td>0</td>\n",
       "      <td>0</td>\n",
       "      <td>0</td>\n",
       "      <td>0</td>\n",
       "      <td>0</td>\n",
       "      <td>0</td>\n",
       "    </tr>\n",
       "    <tr>\n",
       "      <th>45150</th>\n",
       "      <td>0</td>\n",
       "      <td>0</td>\n",
       "      <td>0</td>\n",
       "      <td>0</td>\n",
       "      <td>0</td>\n",
       "      <td>0</td>\n",
       "      <td>0</td>\n",
       "      <td>0</td>\n",
       "      <td>0</td>\n",
       "      <td>0</td>\n",
       "      <td>0</td>\n",
       "      <td>0</td>\n",
       "    </tr>\n",
       "    <tr>\n",
       "      <th>143433</th>\n",
       "      <td>0</td>\n",
       "      <td>0</td>\n",
       "      <td>4</td>\n",
       "      <td>2</td>\n",
       "      <td>1</td>\n",
       "      <td>2</td>\n",
       "      <td>2</td>\n",
       "      <td>1</td>\n",
       "      <td>0</td>\n",
       "      <td>0</td>\n",
       "      <td>0</td>\n",
       "      <td>1</td>\n",
       "    </tr>\n",
       "    <tr>\n",
       "      <th>202144</th>\n",
       "      <td>0</td>\n",
       "      <td>0</td>\n",
       "      <td>0</td>\n",
       "      <td>0</td>\n",
       "      <td>0</td>\n",
       "      <td>0</td>\n",
       "      <td>0</td>\n",
       "      <td>0</td>\n",
       "      <td>0</td>\n",
       "      <td>0</td>\n",
       "      <td>0</td>\n",
       "      <td>0</td>\n",
       "    </tr>\n",
       "    <tr>\n",
       "      <th>136088</th>\n",
       "      <td>0</td>\n",
       "      <td>0</td>\n",
       "      <td>0</td>\n",
       "      <td>0</td>\n",
       "      <td>0</td>\n",
       "      <td>0</td>\n",
       "      <td>0</td>\n",
       "      <td>1</td>\n",
       "      <td>0</td>\n",
       "      <td>0</td>\n",
       "      <td>1</td>\n",
       "      <td>0</td>\n",
       "    </tr>\n",
       "  </tbody>\n",
       "</table>\n",
       "</div>"
      ],
      "text/plain": [
       "        0   1   2   3   4   5   6   7   8   9   10  11\n",
       "207604   0   0   0   0   0   0   0   0   0   0   0   0\n",
       "45150    0   0   0   0   0   0   0   0   0   0   0   0\n",
       "143433   0   0   4   2   1   2   2   1   0   0   0   1\n",
       "202144   0   0   0   0   0   0   0   0   0   0   0   0\n",
       "136088   0   0   0   0   0   0   0   1   0   0   1   0"
      ]
     },
     "execution_count": 12,
     "metadata": {},
     "output_type": "execute_result"
    }
   ],
   "source": [
    "print(\"Train set\", train.shape)\n",
    "print(\"Validation set\", valid.shape)\n",
    "train.head()"
   ]
  },
  {
   "cell_type": "markdown",
   "metadata": {
    "_uuid": "8f6580ca6d2314d7f0b73b1d0da74ded3e22b1bb",
    "papermill": {
     "duration": 0.050348,
     "end_time": "2020-10-11T14:09:30.331328",
     "exception": false,
     "start_time": "2020-10-11T14:09:30.280980",
     "status": "completed"
    },
    "tags": []
   },
   "source": [
    "### Reshape data.\n",
    "* Time-series shape **(data points, time-steps, features)**."
   ]
  },
  {
   "cell_type": "code",
   "execution_count": 13,
   "metadata": {
    "_uuid": "2c5e37e8cc7c1566aed88a0b23f894e500da8b1d",
    "execution": {
     "iopub.execute_input": "2020-10-11T14:09:30.444917Z",
     "iopub.status.busy": "2020-10-11T14:09:30.444199Z",
     "iopub.status.idle": "2020-10-11T14:09:30.447826Z",
     "shell.execute_reply": "2020-10-11T14:09:30.448467Z"
    },
    "papermill": {
     "duration": 0.062663,
     "end_time": "2020-10-11T14:09:30.448625",
     "exception": false,
     "start_time": "2020-10-11T14:09:30.385962",
     "status": "completed"
    },
    "tags": []
   },
   "outputs": [
    {
     "name": "stdout",
     "output_type": "stream",
     "text": [
      "Train set reshaped (200327, 12, 1)\n",
      "Validation set reshaped (22259, 12, 1)\n"
     ]
    }
   ],
   "source": [
    "X_train = train.values.reshape((train.shape[0], train.shape[1], 1))\n",
    "X_valid = valid.values.reshape((valid.shape[0], valid.shape[1], 1))\n",
    "\n",
    "print(\"Train set reshaped\", X_train.shape)\n",
    "print(\"Validation set reshaped\", X_valid.shape)"
   ]
  },
  {
   "cell_type": "markdown",
   "metadata": {
    "_uuid": "8e7efc501e46c65c03b5b3ec510dd2e1b0279acb",
    "papermill": {
     "duration": 0.051744,
     "end_time": "2020-10-11T14:09:30.553790",
     "exception": false,
     "start_time": "2020-10-11T14:09:30.502046",
     "status": "completed"
    },
    "tags": []
   },
   "source": [
    "#### First let's begin with how a regular RNN time-series approach could be.\n",
    "\n",
    "# Regular LSTM model."
   ]
  },
  {
   "cell_type": "code",
   "execution_count": 14,
   "metadata": {
    "_uuid": "cc0476a8e15f23ccab658e89a521f6328a3a1e7b",
    "execution": {
     "iopub.execute_input": "2020-10-11T14:09:30.669047Z",
     "iopub.status.busy": "2020-10-11T14:09:30.668341Z",
     "iopub.status.idle": "2020-10-11T14:09:33.958900Z",
     "shell.execute_reply": "2020-10-11T14:09:33.959442Z"
    },
    "papermill": {
     "duration": 3.353217,
     "end_time": "2020-10-11T14:09:33.959593",
     "exception": false,
     "start_time": "2020-10-11T14:09:30.606376",
     "status": "completed"
    },
    "tags": []
   },
   "outputs": [
    {
     "name": "stdout",
     "output_type": "stream",
     "text": [
      "Model: \"sequential\"\n",
      "_________________________________________________________________\n",
      "Layer (type)                 Output Shape              Param #   \n",
      "=================================================================\n",
      "lstm (LSTM)                  (None, 12, 10)            480       \n",
      "_________________________________________________________________\n",
      "lstm_1 (LSTM)                (None, 12, 6)             408       \n",
      "_________________________________________________________________\n",
      "lstm_2 (LSTM)                (None, 1)                 32        \n",
      "_________________________________________________________________\n",
      "dense (Dense)                (None, 10)                20        \n",
      "_________________________________________________________________\n",
      "dense_1 (Dense)              (None, 10)                110       \n",
      "_________________________________________________________________\n",
      "dense_2 (Dense)              (None, 1)                 11        \n",
      "=================================================================\n",
      "Total params: 1,061\n",
      "Trainable params: 1,061\n",
      "Non-trainable params: 0\n",
      "_________________________________________________________________\n"
     ]
    }
   ],
   "source": [
    "serie_size =  X_train.shape[1] # 12\n",
    "n_features =  X_train.shape[2] # 1\n",
    "\n",
    "epochs = 20\n",
    "batch = 128\n",
    "lr = 0.0001\n",
    "\n",
    "lstm_model = Sequential()\n",
    "lstm_model.add(L.LSTM(10, input_shape=(serie_size, n_features), return_sequences=True))\n",
    "lstm_model.add(L.LSTM(6, activation='relu', return_sequences=True))\n",
    "lstm_model.add(L.LSTM(1, activation='relu'))\n",
    "lstm_model.add(L.Dense(10, kernel_initializer='glorot_normal', activation='relu'))\n",
    "lstm_model.add(L.Dense(10, kernel_initializer='glorot_normal', activation='relu'))\n",
    "lstm_model.add(L.Dense(1))\n",
    "lstm_model.summary()\n",
    "\n",
    "adam = optimizers.Adam(lr)\n",
    "lstm_model.compile(loss='mse', optimizer=adam)"
   ]
  },
  {
   "cell_type": "code",
   "execution_count": 15,
   "metadata": {
    "_uuid": "bd6c873dd2ce1088505a803db608d1ba943997bd",
    "execution": {
     "iopub.execute_input": "2020-10-11T14:09:34.073834Z",
     "iopub.status.busy": "2020-10-11T14:09:34.072927Z",
     "iopub.status.idle": "2020-10-11T14:33:54.995842Z",
     "shell.execute_reply": "2020-10-11T14:33:54.996491Z"
    },
    "papermill": {
     "duration": 1460.982381,
     "end_time": "2020-10-11T14:33:54.996634",
     "exception": false,
     "start_time": "2020-10-11T14:09:34.014253",
     "status": "completed"
    },
    "tags": []
   },
   "outputs": [
    {
     "name": "stdout",
     "output_type": "stream",
     "text": [
      "Epoch 1/20\n",
      "1566/1566 - 74s - loss: 1.5067 - val_loss: 1.3122\n",
      "Epoch 2/20\n",
      "1566/1566 - 72s - loss: 1.3280 - val_loss: 1.2557\n",
      "Epoch 3/20\n",
      "1566/1566 - 75s - loss: 1.2744 - val_loss: 1.2234\n",
      "Epoch 4/20\n",
      "1566/1566 - 74s - loss: 1.2338 - val_loss: 1.1950\n",
      "Epoch 5/20\n",
      "1566/1566 - 72s - loss: 1.2027 - val_loss: 1.1726\n",
      "Epoch 6/20\n",
      "1566/1566 - 71s - loss: 1.1755 - val_loss: 1.1573\n",
      "Epoch 7/20\n",
      "1566/1566 - 75s - loss: 1.1700 - val_loss: 1.1529\n",
      "Epoch 8/20\n",
      "1566/1566 - 74s - loss: 1.1676 - val_loss: 1.1511\n",
      "Epoch 9/20\n",
      "1566/1566 - 72s - loss: 1.1664 - val_loss: 1.1484\n",
      "Epoch 10/20\n",
      "1566/1566 - 72s - loss: 1.1652 - val_loss: 1.1484\n",
      "Epoch 11/20\n",
      "1566/1566 - 70s - loss: 1.1642 - val_loss: 1.1489\n",
      "Epoch 12/20\n",
      "1566/1566 - 71s - loss: 1.1637 - val_loss: 1.1464\n",
      "Epoch 13/20\n",
      "1566/1566 - 73s - loss: 1.1629 - val_loss: 1.1453\n",
      "Epoch 14/20\n",
      "1566/1566 - 72s - loss: 1.1624 - val_loss: 1.1446\n",
      "Epoch 15/20\n",
      "1566/1566 - 72s - loss: 1.1616 - val_loss: 1.1444\n",
      "Epoch 16/20\n",
      "1566/1566 - 72s - loss: 1.1616 - val_loss: 1.1459\n",
      "Epoch 17/20\n",
      "1566/1566 - 71s - loss: 1.1610 - val_loss: 1.1430\n",
      "Epoch 18/20\n",
      "1566/1566 - 74s - loss: 1.1604 - val_loss: 1.1421\n",
      "Epoch 19/20\n",
      "1566/1566 - 77s - loss: 1.1604 - val_loss: 1.1458\n",
      "Epoch 20/20\n",
      "1566/1566 - 72s - loss: 1.1603 - val_loss: 1.1410\n"
     ]
    }
   ],
   "source": [
    "lstm_history = lstm_model.fit(X_train, Y_train, \n",
    "                              validation_data=(X_valid, Y_valid), \n",
    "                              batch_size=batch, \n",
    "                              epochs=epochs, \n",
    "                              verbose=2)"
   ]
  },
  {
   "cell_type": "markdown",
   "metadata": {
    "_uuid": "51d7dff8a1c9c35a56274ed622aaeec94b54167a",
    "papermill": {
     "duration": 0.067477,
     "end_time": "2020-10-11T14:33:55.129812",
     "exception": false,
     "start_time": "2020-10-11T14:33:55.062335",
     "status": "completed"
    },
    "tags": []
   },
   "source": [
    "# Autoencoder\n",
    "* Now we will build an autoencoder to learn how to reconstruct the input, this way it internally learns the best way to represent the input in lower dimensions.\n",
    "* The reconstruct model is composed of an encoder and a decoder, the encoder is responsible for learning how to represent the input into lower dimensions and the decoder learns how to rebuild the smaller representations into the input again.\n",
    "* Here is a structural representations of an autoencoder:\n",
    " <img src=\"https://raw.githubusercontent.com/dimitreOliveira/MachineLearning/master/Kaggle/Predict%20Future%20Sales/Autoencoder_structure.png\" width=\"400\">\n",
    "* After the models is trained we can keep only the encoder part and we'll have a model that is able to do what we want.\n",
    "\n",
    "### LSTM Autoencoder."
   ]
  },
  {
   "cell_type": "code",
   "execution_count": 16,
   "metadata": {
    "_uuid": "5ff2be02b26b29defb8f72a04d6c8da64ee66b7c",
    "execution": {
     "iopub.execute_input": "2020-10-11T14:33:55.276651Z",
     "iopub.status.busy": "2020-10-11T14:33:55.275754Z",
     "iopub.status.idle": "2020-10-11T14:33:55.626079Z",
     "shell.execute_reply": "2020-10-11T14:33:55.625551Z"
    },
    "papermill": {
     "duration": 0.429416,
     "end_time": "2020-10-11T14:33:55.626195",
     "exception": false,
     "start_time": "2020-10-11T14:33:55.196779",
     "status": "completed"
    },
    "scrolled": false,
    "tags": []
   },
   "outputs": [
    {
     "name": "stdout",
     "output_type": "stream",
     "text": [
      "Model: \"sequential_1\"\n",
      "_________________________________________________________________\n",
      "Layer (type)                 Output Shape              Param #   \n",
      "=================================================================\n",
      "lstm_3 (LSTM)                (None, 12, 12)            672       \n",
      "_________________________________________________________________\n",
      "lstm_4 (LSTM)                (None, 12, 6)             456       \n",
      "_________________________________________________________________\n",
      "lstm_5 (LSTM)                (None, 1)                 32        \n",
      "_________________________________________________________________\n",
      "repeat_vector (RepeatVector) (None, 12, 1)             0         \n",
      "_________________________________________________________________\n",
      "lstm_6 (LSTM)                (None, 12, 12)            672       \n",
      "_________________________________________________________________\n",
      "lstm_7 (LSTM)                (None, 12, 6)             456       \n",
      "_________________________________________________________________\n",
      "time_distributed (TimeDistri (None, 12, 1)             7         \n",
      "=================================================================\n",
      "Total params: 2,295\n",
      "Trainable params: 2,295\n",
      "Non-trainable params: 0\n",
      "_________________________________________________________________\n"
     ]
    }
   ],
   "source": [
    "encoder_decoder = Sequential()\n",
    "encoder_decoder.add(L.LSTM(serie_size, activation='relu', input_shape=(serie_size, n_features), return_sequences=True))\n",
    "encoder_decoder.add(L.LSTM(6, activation='relu', return_sequences=True))\n",
    "encoder_decoder.add(L.LSTM(1, activation='relu'))\n",
    "encoder_decoder.add(L.RepeatVector(serie_size))\n",
    "encoder_decoder.add(L.LSTM(serie_size, activation='relu', return_sequences=True))\n",
    "encoder_decoder.add(L.LSTM(6, activation='relu', return_sequences=True))\n",
    "encoder_decoder.add(L.TimeDistributed(L.Dense(1)))\n",
    "encoder_decoder.summary()\n",
    "\n",
    "adam = optimizers.Adam(lr)\n",
    "encoder_decoder.compile(loss='mse', optimizer=adam)"
   ]
  },
  {
   "cell_type": "code",
   "execution_count": 17,
   "metadata": {
    "_uuid": "63adaa1c1493776404358a915e53683123587df8",
    "execution": {
     "iopub.execute_input": "2020-10-11T14:33:55.765086Z",
     "iopub.status.busy": "2020-10-11T14:33:55.763904Z",
     "iopub.status.idle": "2020-10-11T15:28:57.010276Z",
     "shell.execute_reply": "2020-10-11T15:28:57.010830Z"
    },
    "papermill": {
     "duration": 3301.317739,
     "end_time": "2020-10-11T15:28:57.011012",
     "exception": false,
     "start_time": "2020-10-11T14:33:55.693273",
     "status": "completed"
    },
    "tags": []
   },
   "outputs": [
    {
     "name": "stdout",
     "output_type": "stream",
     "text": [
      "Epoch 1/20\n",
      "1566/1566 - 166s - loss: 1.5515\n",
      "Epoch 2/20\n",
      "1566/1566 - 165s - loss: 1.1077\n",
      "Epoch 3/20\n",
      "1566/1566 - 167s - loss: 1.0431\n",
      "Epoch 4/20\n",
      "1566/1566 - 162s - loss: 1.0177\n",
      "Epoch 5/20\n",
      "1566/1566 - 159s - loss: 1.0008\n",
      "Epoch 6/20\n",
      "1566/1566 - 161s - loss: 0.9840\n",
      "Epoch 7/20\n",
      "1566/1566 - 162s - loss: 0.9694\n",
      "Epoch 8/20\n",
      "1566/1566 - 169s - loss: 0.9595\n",
      "Epoch 9/20\n",
      "1566/1566 - 174s - loss: 0.9518\n",
      "Epoch 10/20\n",
      "1566/1566 - 171s - loss: 0.9471\n",
      "Epoch 11/20\n",
      "1566/1566 - 168s - loss: 0.9446\n",
      "Epoch 12/20\n",
      "1566/1566 - 168s - loss: 0.9388\n",
      "Epoch 13/20\n",
      "1566/1566 - 165s - loss: 0.9340\n",
      "Epoch 14/20\n",
      "1566/1566 - 164s - loss: 0.9323\n",
      "Epoch 15/20\n",
      "1566/1566 - 161s - loss: 0.9298\n",
      "Epoch 16/20\n",
      "1566/1566 - 160s - loss: 0.9282\n",
      "Epoch 17/20\n",
      "1566/1566 - 163s - loss: 0.9232\n",
      "Epoch 18/20\n",
      "1566/1566 - 163s - loss: 0.9172\n",
      "Epoch 19/20\n",
      "1566/1566 - 161s - loss: 0.9178\n",
      "Epoch 20/20\n",
      "1566/1566 - 163s - loss: 0.9164\n"
     ]
    }
   ],
   "source": [
    "encoder_decoder_history = encoder_decoder.fit(X_train, X_train, \n",
    "                                              batch_size=batch, \n",
    "                                              epochs=epochs, \n",
    "                                              verbose=2)"
   ]
  },
  {
   "cell_type": "markdown",
   "metadata": {
    "_uuid": "b9a93135fa65c99f60d6b475860d595946fa36ce",
    "papermill": {
     "duration": 0.077194,
     "end_time": "2020-10-11T15:28:57.166514",
     "exception": false,
     "start_time": "2020-10-11T15:28:57.089320",
     "status": "completed"
    },
    "tags": []
   },
   "source": [
    "#### You should be aware that the better the autoencoder is able to reconstruct the input the better it internally encodes the input, in other words if we have a good autoencoder we probably will have an equally good encoder.\n",
    "#### Let's take a look at the layers of the encoder_decoder model:"
   ]
  },
  {
   "cell_type": "code",
   "execution_count": 18,
   "metadata": {
    "_uuid": "15dacbee296511b692b9ffacce8b0e4908a043e3",
    "execution": {
     "iopub.execute_input": "2020-10-11T15:28:57.335783Z",
     "iopub.status.busy": "2020-10-11T15:28:57.334674Z",
     "iopub.status.idle": "2020-10-11T15:28:57.353493Z",
     "shell.execute_reply": "2020-10-11T15:28:57.354044Z"
    },
    "papermill": {
     "duration": 0.107291,
     "end_time": "2020-10-11T15:28:57.354185",
     "exception": false,
     "start_time": "2020-10-11T15:28:57.246894",
     "status": "completed"
    },
    "tags": []
   },
   "outputs": [
    {
     "data": {
      "text/plain": [
       "[<tensorflow.python.keras.layers.recurrent_v2.LSTM at 0x7f89eec7d710>,\n",
       " <tensorflow.python.keras.layers.recurrent_v2.LSTM at 0x7f89f7387ad0>,\n",
       " <tensorflow.python.keras.layers.recurrent_v2.LSTM at 0x7f89ec1c1590>,\n",
       " <tensorflow.python.keras.layers.core.RepeatVector at 0x7f89e7e34250>,\n",
       " <tensorflow.python.keras.layers.recurrent_v2.LSTM at 0x7f89ec15c190>,\n",
       " <tensorflow.python.keras.layers.recurrent_v2.LSTM at 0x7f89ec0c4c10>,\n",
       " <tensorflow.python.keras.layers.wrappers.TimeDistributed at 0x7f89ec0df990>]"
      ]
     },
     "execution_count": 18,
     "metadata": {},
     "output_type": "execute_result"
    }
   ],
   "source": [
    "rpt_vector_layer = Model(inputs=encoder_decoder.inputs, outputs=encoder_decoder.layers[3].output)\n",
    "time_dist_layer = Model(inputs=encoder_decoder.inputs, outputs=encoder_decoder.layers[5].output)\n",
    "encoder_decoder.layers"
   ]
  },
  {
   "cell_type": "markdown",
   "metadata": {
    "_uuid": "9f890ab6dc39db44614f56c63ae66e9ed8aa5683",
    "papermill": {
     "duration": 0.078832,
     "end_time": "2020-10-11T15:28:57.512692",
     "exception": false,
     "start_time": "2020-10-11T15:28:57.433860",
     "status": "completed"
    },
    "tags": []
   },
   "source": [
    "#### About the autoencoder layers\n",
    "#### LSTM\n",
    "* This is just a regular LSTM layer, a layer that is able to receive sequence data and learn based on it nothing much to talk about."
   ]
  },
  {
   "cell_type": "markdown",
   "metadata": {
    "_uuid": "8da47713e9298d43d2533f4592acccc00ddca1e7",
    "papermill": {
     "duration": 0.077823,
     "end_time": "2020-10-11T15:28:57.669969",
     "exception": false,
     "start_time": "2020-10-11T15:28:57.592146",
     "status": "completed"
    },
    "tags": []
   },
   "source": [
    "#### RepeatVector layer\n",
    "* Here is something we don't usually see, this layers basically repeats it's input \"n\" times, the reason to use it is because the last layers from the encoder part (the layer with one neuron) don't return sequences, so it does not outputs a sequenced data, this way we can't just add another LSTM layer after it, we need a way to turn this output into a sequence of the same time-steps of the model input, this is where \"RepeatVector\" layers comes in.\n",
    "* Let's see what it outputs."
   ]
  },
  {
   "cell_type": "code",
   "execution_count": 19,
   "metadata": {
    "_kg_hide-input": true,
    "_uuid": "48a1f24b0f8b6c64ef7e2c77c72584c0b85a1965",
    "execution": {
     "iopub.execute_input": "2020-10-11T15:28:57.833969Z",
     "iopub.status.busy": "2020-10-11T15:28:57.833114Z",
     "iopub.status.idle": "2020-10-11T15:28:58.243785Z",
     "shell.execute_reply": "2020-10-11T15:28:58.244367Z"
    },
    "papermill": {
     "duration": 0.495763,
     "end_time": "2020-10-11T15:28:58.244530",
     "exception": false,
     "start_time": "2020-10-11T15:28:57.748767",
     "status": "completed"
    },
    "tags": []
   },
   "outputs": [
    {
     "name": "stdout",
     "output_type": "stream",
     "text": [
      "Repeat vector output shape (1, 12, 1)\n",
      "Repeat vector output sample\n",
      "[[1.7652086]\n",
      " [1.7652086]\n",
      " [1.7652086]\n",
      " [1.7652086]\n",
      " [1.7652086]\n",
      " [1.7652086]\n",
      " [1.7652086]\n",
      " [1.7652086]\n",
      " [1.7652086]\n",
      " [1.7652086]\n",
      " [1.7652086]\n",
      " [1.7652086]]\n"
     ]
    }
   ],
   "source": [
    "rpt_vector_layer_output = rpt_vector_layer.predict(X_train[:1])\n",
    "print('Repeat vector output shape', rpt_vector_layer_output.shape)\n",
    "print('Repeat vector output sample')\n",
    "print(rpt_vector_layer_output[0])"
   ]
  },
  {
   "cell_type": "markdown",
   "metadata": {
    "_uuid": "9c504b854e6c9c1b8254ee872c18bffb38c69090",
    "papermill": {
     "duration": 0.079638,
     "end_time": "2020-10-11T15:28:58.407999",
     "exception": false,
     "start_time": "2020-10-11T15:28:58.328361",
     "status": "completed"
    },
    "tags": []
   },
   "source": [
    "As you can see this is just the same value repeated some times to match the same shape of the model input.\n",
    "\n",
    "#### TimeDistributed layer\n",
    "* This layer is more common, sometimes is used when you want to mix RNN layers with other kind of layers.\n",
    "* We could output the model with another LSTM layer with one neuron and \"return_sequences=True\" parameter, but using a \"TimeDistributed\" layer wrapping a \"Dense\" layer we will have the same weights for each outputted time-step."
   ]
  },
  {
   "cell_type": "code",
   "execution_count": 20,
   "metadata": {
    "_kg_hide-input": true,
    "_uuid": "2fdce2f3b27cb4ca1aef856cfe1987c881ff49d0",
    "execution": {
     "iopub.execute_input": "2020-10-11T15:28:58.576486Z",
     "iopub.status.busy": "2020-10-11T15:28:58.575793Z",
     "iopub.status.idle": "2020-10-11T15:28:59.168771Z",
     "shell.execute_reply": "2020-10-11T15:28:59.169269Z"
    },
    "papermill": {
     "duration": 0.680983,
     "end_time": "2020-10-11T15:28:59.169445",
     "exception": false,
     "start_time": "2020-10-11T15:28:58.488462",
     "status": "completed"
    },
    "tags": []
   },
   "outputs": [
    {
     "name": "stdout",
     "output_type": "stream",
     "text": [
      "Time distributed output shape (1, 12, 6)\n",
      "Time distributed output sample\n",
      "[[1.9910030e-02 0.0000000e+00 3.8524549e-03 7.4686572e-02 1.1851047e-01\n",
      "  6.6910662e-02]\n",
      " [1.0625558e-02 0.0000000e+00 3.5476349e-02 1.1288490e-01 2.1432281e-01\n",
      "  1.5205307e-01]\n",
      " [4.8153275e-03 0.0000000e+00 8.4371455e-02 7.0393331e-02 2.9059261e-01\n",
      "  2.0324098e-01]\n",
      " [1.9158795e-03 0.0000000e+00 1.3351467e-01 3.9786749e-02 3.4163573e-01\n",
      "  2.0546621e-01]\n",
      " [7.1840204e-04 0.0000000e+00 1.7135502e-01 2.1733187e-02 3.6997330e-01\n",
      "  1.9290383e-01]\n",
      " [2.6656259e-04 0.0000000e+00 1.9970903e-01 1.1735361e-02 3.8098180e-01\n",
      "  1.9020893e-01]\n",
      " [9.8010998e-05 2.8399068e-03 2.2207233e-01 6.2495852e-03 3.8081640e-01\n",
      "  1.9687831e-01]\n",
      " [3.5544392e-05 9.2054876e-03 2.4055974e-01 3.2736955e-03 3.7324408e-01\n",
      "  2.0759062e-01]\n",
      " [1.2677572e-05 1.7838215e-02 2.5607160e-01 1.6867360e-03 3.6060077e-01\n",
      "  2.1849820e-01]\n",
      " [4.4451099e-06 2.7221033e-02 2.6882043e-01 8.5621356e-04 3.4438208e-01\n",
      "  2.2764295e-01]\n",
      " [1.5344931e-06 3.6003374e-02 2.7878711e-01 4.2922908e-04 3.2555303e-01\n",
      "  2.3437236e-01]\n",
      " [5.2304472e-07 4.3212134e-02 2.8595468e-01 2.1306782e-04 3.0475688e-01\n",
      "  2.3878156e-01]]\n"
     ]
    }
   ],
   "source": [
    "time_dist_layer_output = time_dist_layer.predict(X_train[:1])\n",
    "print('Time distributed output shape', time_dist_layer_output.shape)\n",
    "print('Time distributed output sample')\n",
    "print(time_dist_layer_output[0])"
   ]
  },
  {
   "cell_type": "markdown",
   "metadata": {
    "_uuid": "19df05eca8d0a3e753468df84c759c1170700650",
    "papermill": {
     "duration": 0.126166,
     "end_time": "2020-10-11T15:28:59.383380",
     "exception": false,
     "start_time": "2020-10-11T15:28:59.257214",
     "status": "completed"
    },
    "tags": []
   },
   "source": [
    "[Another good explanation about the used layers](https://machinelearningmastery.com/encoder-decoder-long-short-term-memory-networks/)"
   ]
  },
  {
   "cell_type": "markdown",
   "metadata": {
    "_uuid": "c9d0dd003dbaac41b7a2dab681b5112571697133",
    "papermill": {
     "duration": 0.125974,
     "end_time": "2020-10-11T15:28:59.656136",
     "exception": false,
     "start_time": "2020-10-11T15:28:59.530162",
     "status": "completed"
    },
    "tags": []
   },
   "source": [
    "#### Defining the encoding model.\n",
    "* What I want is to encode the whole series into a single value, so I need the output from the layer with a single neuron (in this case it's the third LSTM layer).\n",
    "* I'll take only the encoding part of the model and define it as a new one."
   ]
  },
  {
   "cell_type": "code",
   "execution_count": 21,
   "metadata": {
    "_uuid": "f3d6e03900c87c32819e2689e60b9b56b6d7e8b3",
    "execution": {
     "iopub.execute_input": "2020-10-11T15:28:59.918208Z",
     "iopub.status.busy": "2020-10-11T15:28:59.915988Z",
     "iopub.status.idle": "2020-10-11T15:28:59.927885Z",
     "shell.execute_reply": "2020-10-11T15:28:59.928556Z"
    },
    "papermill": {
     "duration": 0.146704,
     "end_time": "2020-10-11T15:28:59.928762",
     "exception": false,
     "start_time": "2020-10-11T15:28:59.782058",
     "status": "completed"
    },
    "tags": []
   },
   "outputs": [],
   "source": [
    "encoder = Model(inputs=encoder_decoder.inputs, outputs=encoder_decoder.layers[2].output)"
   ]
  },
  {
   "cell_type": "markdown",
   "metadata": {
    "_uuid": "ad537909142cdf273ea10de76ba438ee66fc3690",
    "papermill": {
     "duration": 0.089461,
     "end_time": "2020-10-11T15:29:00.109853",
     "exception": false,
     "start_time": "2020-10-11T15:29:00.020392",
     "status": "completed"
    },
    "tags": []
   },
   "source": [
    "#### Now let's encode the train and validation time-series."
   ]
  },
  {
   "cell_type": "code",
   "execution_count": 22,
   "metadata": {
    "_uuid": "3a545acede584748d12a32a15fd6f9d3dfd27529",
    "execution": {
     "iopub.execute_input": "2020-10-11T15:29:00.294158Z",
     "iopub.status.busy": "2020-10-11T15:29:00.293210Z",
     "iopub.status.idle": "2020-10-11T15:29:37.064398Z",
     "shell.execute_reply": "2020-10-11T15:29:37.065081Z"
    },
    "papermill": {
     "duration": 36.866342,
     "end_time": "2020-10-11T15:29:37.065226",
     "exception": false,
     "start_time": "2020-10-11T15:29:00.198884",
     "status": "completed"
    },
    "tags": []
   },
   "outputs": [
    {
     "name": "stdout",
     "output_type": "stream",
     "text": [
      "Encoded time-series shape (200327, 1)\n",
      "Encoded time-series sample [1.7652105]\n"
     ]
    }
   ],
   "source": [
    "train_encoded = encoder.predict(X_train)\n",
    "validation_encoded = encoder.predict(X_valid)\n",
    "print('Encoded time-series shape', train_encoded.shape)\n",
    "print('Encoded time-series sample', train_encoded[0])"
   ]
  },
  {
   "cell_type": "markdown",
   "metadata": {
    "_uuid": "ddce912149f088891b298392c38d9fb37e59dce4",
    "papermill": {
     "duration": 0.080456,
     "end_time": "2020-10-11T15:29:37.226880",
     "exception": false,
     "start_time": "2020-10-11T15:29:37.146424",
     "status": "completed"
    },
    "tags": []
   },
   "source": [
    "#### Add new encoded features to the train and validation sets."
   ]
  },
  {
   "cell_type": "code",
   "execution_count": 23,
   "metadata": {
    "_uuid": "9893ee5967a58ed7babf355dc26a7f1791155ca1",
    "execution": {
     "iopub.execute_input": "2020-10-11T15:29:37.396908Z",
     "iopub.status.busy": "2020-10-11T15:29:37.395455Z",
     "iopub.status.idle": "2020-10-11T15:29:37.415684Z",
     "shell.execute_reply": "2020-10-11T15:29:37.415182Z"
    },
    "papermill": {
     "duration": 0.107024,
     "end_time": "2020-10-11T15:29:37.415784",
     "exception": false,
     "start_time": "2020-10-11T15:29:37.308760",
     "status": "completed"
    },
    "tags": []
   },
   "outputs": [
    {
     "data": {
      "text/html": [
       "<div>\n",
       "<style scoped>\n",
       "    .dataframe tbody tr th:only-of-type {\n",
       "        vertical-align: middle;\n",
       "    }\n",
       "\n",
       "    .dataframe tbody tr th {\n",
       "        vertical-align: top;\n",
       "    }\n",
       "\n",
       "    .dataframe thead th {\n",
       "        text-align: right;\n",
       "    }\n",
       "</style>\n",
       "<table border=\"1\" class=\"dataframe\">\n",
       "  <thead>\n",
       "    <tr style=\"text-align: right;\">\n",
       "      <th></th>\n",
       "      <th>0</th>\n",
       "      <th>1</th>\n",
       "      <th>2</th>\n",
       "      <th>3</th>\n",
       "      <th>4</th>\n",
       "      <th>5</th>\n",
       "      <th>6</th>\n",
       "      <th>7</th>\n",
       "      <th>8</th>\n",
       "      <th>9</th>\n",
       "      <th>10</th>\n",
       "      <th>11</th>\n",
       "      <th>encoded</th>\n",
       "      <th>label</th>\n",
       "    </tr>\n",
       "  </thead>\n",
       "  <tbody>\n",
       "    <tr>\n",
       "      <th>207604</th>\n",
       "      <td>0</td>\n",
       "      <td>0</td>\n",
       "      <td>0</td>\n",
       "      <td>0</td>\n",
       "      <td>0</td>\n",
       "      <td>0</td>\n",
       "      <td>0</td>\n",
       "      <td>0</td>\n",
       "      <td>0</td>\n",
       "      <td>0</td>\n",
       "      <td>0</td>\n",
       "      <td>0</td>\n",
       "      <td>1.77</td>\n",
       "      <td>0</td>\n",
       "    </tr>\n",
       "    <tr>\n",
       "      <th>45150</th>\n",
       "      <td>0</td>\n",
       "      <td>0</td>\n",
       "      <td>0</td>\n",
       "      <td>0</td>\n",
       "      <td>0</td>\n",
       "      <td>0</td>\n",
       "      <td>0</td>\n",
       "      <td>0</td>\n",
       "      <td>0</td>\n",
       "      <td>0</td>\n",
       "      <td>0</td>\n",
       "      <td>0</td>\n",
       "      <td>1.77</td>\n",
       "      <td>0</td>\n",
       "    </tr>\n",
       "    <tr>\n",
       "      <th>143433</th>\n",
       "      <td>0</td>\n",
       "      <td>0</td>\n",
       "      <td>4</td>\n",
       "      <td>2</td>\n",
       "      <td>1</td>\n",
       "      <td>2</td>\n",
       "      <td>2</td>\n",
       "      <td>1</td>\n",
       "      <td>0</td>\n",
       "      <td>0</td>\n",
       "      <td>0</td>\n",
       "      <td>1</td>\n",
       "      <td>60.37</td>\n",
       "      <td>1</td>\n",
       "    </tr>\n",
       "    <tr>\n",
       "      <th>202144</th>\n",
       "      <td>0</td>\n",
       "      <td>0</td>\n",
       "      <td>0</td>\n",
       "      <td>0</td>\n",
       "      <td>0</td>\n",
       "      <td>0</td>\n",
       "      <td>0</td>\n",
       "      <td>0</td>\n",
       "      <td>0</td>\n",
       "      <td>0</td>\n",
       "      <td>0</td>\n",
       "      <td>0</td>\n",
       "      <td>1.77</td>\n",
       "      <td>0</td>\n",
       "    </tr>\n",
       "    <tr>\n",
       "      <th>136088</th>\n",
       "      <td>0</td>\n",
       "      <td>0</td>\n",
       "      <td>0</td>\n",
       "      <td>0</td>\n",
       "      <td>0</td>\n",
       "      <td>0</td>\n",
       "      <td>0</td>\n",
       "      <td>1</td>\n",
       "      <td>0</td>\n",
       "      <td>0</td>\n",
       "      <td>1</td>\n",
       "      <td>0</td>\n",
       "      <td>2.93</td>\n",
       "      <td>1</td>\n",
       "    </tr>\n",
       "    <tr>\n",
       "      <th>121675</th>\n",
       "      <td>0</td>\n",
       "      <td>0</td>\n",
       "      <td>0</td>\n",
       "      <td>0</td>\n",
       "      <td>0</td>\n",
       "      <td>1</td>\n",
       "      <td>0</td>\n",
       "      <td>0</td>\n",
       "      <td>0</td>\n",
       "      <td>0</td>\n",
       "      <td>0</td>\n",
       "      <td>0</td>\n",
       "      <td>2.35</td>\n",
       "      <td>0</td>\n",
       "    </tr>\n",
       "    <tr>\n",
       "      <th>185281</th>\n",
       "      <td>0</td>\n",
       "      <td>0</td>\n",
       "      <td>0</td>\n",
       "      <td>0</td>\n",
       "      <td>0</td>\n",
       "      <td>0</td>\n",
       "      <td>0</td>\n",
       "      <td>0</td>\n",
       "      <td>0</td>\n",
       "      <td>0</td>\n",
       "      <td>0</td>\n",
       "      <td>0</td>\n",
       "      <td>1.77</td>\n",
       "      <td>1</td>\n",
       "    </tr>\n",
       "    <tr>\n",
       "      <th>70087</th>\n",
       "      <td>0</td>\n",
       "      <td>0</td>\n",
       "      <td>0</td>\n",
       "      <td>0</td>\n",
       "      <td>0</td>\n",
       "      <td>0</td>\n",
       "      <td>0</td>\n",
       "      <td>0</td>\n",
       "      <td>3</td>\n",
       "      <td>0</td>\n",
       "      <td>1</td>\n",
       "      <td>3</td>\n",
       "      <td>7.53</td>\n",
       "      <td>0</td>\n",
       "    </tr>\n",
       "    <tr>\n",
       "      <th>105249</th>\n",
       "      <td>0</td>\n",
       "      <td>0</td>\n",
       "      <td>0</td>\n",
       "      <td>0</td>\n",
       "      <td>0</td>\n",
       "      <td>0</td>\n",
       "      <td>0</td>\n",
       "      <td>0</td>\n",
       "      <td>0</td>\n",
       "      <td>0</td>\n",
       "      <td>0</td>\n",
       "      <td>0</td>\n",
       "      <td>1.77</td>\n",
       "      <td>0</td>\n",
       "    </tr>\n",
       "    <tr>\n",
       "      <th>183257</th>\n",
       "      <td>0</td>\n",
       "      <td>0</td>\n",
       "      <td>0</td>\n",
       "      <td>0</td>\n",
       "      <td>0</td>\n",
       "      <td>3</td>\n",
       "      <td>0</td>\n",
       "      <td>1</td>\n",
       "      <td>0</td>\n",
       "      <td>0</td>\n",
       "      <td>0</td>\n",
       "      <td>1</td>\n",
       "      <td>4.39</td>\n",
       "      <td>0</td>\n",
       "    </tr>\n",
       "  </tbody>\n",
       "</table>\n",
       "</div>"
      ],
      "text/plain": [
       "        0  1  2  3  4  5  6  7  8  9  10  11  encoded  label\n",
       "207604  0  0  0  0  0  0  0  0  0  0   0   0     1.77      0\n",
       "45150   0  0  0  0  0  0  0  0  0  0   0   0     1.77      0\n",
       "143433  0  0  4  2  1  2  2  1  0  0   0   1    60.37      1\n",
       "202144  0  0  0  0  0  0  0  0  0  0   0   0     1.77      0\n",
       "136088  0  0  0  0  0  0  0  1  0  0   1   0     2.93      1\n",
       "121675  0  0  0  0  0  1  0  0  0  0   0   0     2.35      0\n",
       "185281  0  0  0  0  0  0  0  0  0  0   0   0     1.77      1\n",
       "70087   0  0  0  0  0  0  0  0  3  0   1   3     7.53      0\n",
       "105249  0  0  0  0  0  0  0  0  0  0   0   0     1.77      0\n",
       "183257  0  0  0  0  0  3  0  1  0  0   0   1     4.39      0"
      ]
     },
     "execution_count": 23,
     "metadata": {},
     "output_type": "execute_result"
    }
   ],
   "source": [
    "train['encoded'] = train_encoded\n",
    "train['label'] = Y_train\n",
    "\n",
    "valid['encoded'] = validation_encoded\n",
    "valid['label'] = Y_valid\n",
    "\n",
    "train.head(10)"
   ]
  },
  {
   "cell_type": "markdown",
   "metadata": {
    "_uuid": "41752802a4212ff1e105f703a57d10193ed2933e",
    "papermill": {
     "duration": 0.081905,
     "end_time": "2020-10-11T15:29:37.579274",
     "exception": false,
     "start_time": "2020-10-11T15:29:37.497369",
     "status": "completed"
    },
    "tags": []
   },
   "source": [
    "#### Now we can use the new encoded feature that is a representation of the whole time-series and train a \"less complex\" model that does not receives sequenced data as input.\n",
    "\n",
    "# MLP with LSTM encoded feature\n",
    "* For the MLP model I'm only using the current month \"item_count\" and the encoded time-series feature from our LSTM encoder model, the idea is that we won't need the whole series because we already have a column that represents the whole series into a single value (it's like a dimensionality reduction)."
   ]
  },
  {
   "cell_type": "code",
   "execution_count": 24,
   "metadata": {
    "_uuid": "77b3c31ca5dacbc4774fb3845c348c583a015d9e",
    "execution": {
     "iopub.execute_input": "2020-10-11T15:29:37.753049Z",
     "iopub.status.busy": "2020-10-11T15:29:37.751736Z",
     "iopub.status.idle": "2020-10-11T15:29:37.781191Z",
     "shell.execute_reply": "2020-10-11T15:29:37.780656Z"
    },
    "papermill": {
     "duration": 0.118693,
     "end_time": "2020-10-11T15:29:37.781298",
     "exception": false,
     "start_time": "2020-10-11T15:29:37.662605",
     "status": "completed"
    },
    "tags": []
   },
   "outputs": [
    {
     "name": "stdout",
     "output_type": "stream",
     "text": [
      "Train set (200327, 2)\n",
      "Validation set (22259, 2)\n"
     ]
    }
   ],
   "source": [
    "last_month = serie_size - 1\n",
    "Y_train_encoded = train['label']\n",
    "train.drop('label', axis=1, inplace=True)\n",
    "X_train_encoded = train[[last_month, 'encoded']]\n",
    "\n",
    "Y_valid_encoded = valid['label']\n",
    "valid.drop('label', axis=1, inplace=True)\n",
    "X_valid_encoded = valid[[last_month, 'encoded']]\n",
    "\n",
    "print(\"Train set\", X_train_encoded.shape)\n",
    "print(\"Validation set\", X_valid_encoded.shape)"
   ]
  },
  {
   "cell_type": "code",
   "execution_count": 25,
   "metadata": {
    "_kg_hide-input": true,
    "_uuid": "e39b4c487ed7fb6fc158d1010f137f7188ff1cb9",
    "execution": {
     "iopub.execute_input": "2020-10-11T15:29:37.952824Z",
     "iopub.status.busy": "2020-10-11T15:29:37.951787Z",
     "iopub.status.idle": "2020-10-11T15:29:37.956350Z",
     "shell.execute_reply": "2020-10-11T15:29:37.956869Z"
    },
    "papermill": {
     "duration": 0.093442,
     "end_time": "2020-10-11T15:29:37.957037",
     "exception": false,
     "start_time": "2020-10-11T15:29:37.863595",
     "status": "completed"
    },
    "tags": []
   },
   "outputs": [
    {
     "data": {
      "text/html": [
       "<div>\n",
       "<style scoped>\n",
       "    .dataframe tbody tr th:only-of-type {\n",
       "        vertical-align: middle;\n",
       "    }\n",
       "\n",
       "    .dataframe tbody tr th {\n",
       "        vertical-align: top;\n",
       "    }\n",
       "\n",
       "    .dataframe thead th {\n",
       "        text-align: right;\n",
       "    }\n",
       "</style>\n",
       "<table border=\"1\" class=\"dataframe\">\n",
       "  <thead>\n",
       "    <tr style=\"text-align: right;\">\n",
       "      <th></th>\n",
       "      <th>11</th>\n",
       "      <th>encoded</th>\n",
       "    </tr>\n",
       "  </thead>\n",
       "  <tbody>\n",
       "    <tr>\n",
       "      <th>207604</th>\n",
       "      <td>0</td>\n",
       "      <td>1.77</td>\n",
       "    </tr>\n",
       "    <tr>\n",
       "      <th>45150</th>\n",
       "      <td>0</td>\n",
       "      <td>1.77</td>\n",
       "    </tr>\n",
       "    <tr>\n",
       "      <th>143433</th>\n",
       "      <td>1</td>\n",
       "      <td>60.37</td>\n",
       "    </tr>\n",
       "    <tr>\n",
       "      <th>202144</th>\n",
       "      <td>0</td>\n",
       "      <td>1.77</td>\n",
       "    </tr>\n",
       "    <tr>\n",
       "      <th>136088</th>\n",
       "      <td>0</td>\n",
       "      <td>2.93</td>\n",
       "    </tr>\n",
       "  </tbody>\n",
       "</table>\n",
       "</div>"
      ],
      "text/plain": [
       "        11  encoded\n",
       "207604   0     1.77\n",
       "45150    0     1.77\n",
       "143433   1    60.37\n",
       "202144   0     1.77\n",
       "136088   0     2.93"
      ]
     },
     "execution_count": 25,
     "metadata": {},
     "output_type": "execute_result"
    }
   ],
   "source": [
    "X_train_encoded.head()"
   ]
  },
  {
   "cell_type": "code",
   "execution_count": 26,
   "metadata": {
    "_uuid": "73f2010fd8354fc40a52cda0d44c1b545c117567",
    "execution": {
     "iopub.execute_input": "2020-10-11T15:29:38.130177Z",
     "iopub.status.busy": "2020-10-11T15:29:38.129157Z",
     "iopub.status.idle": "2020-10-11T15:29:38.171640Z",
     "shell.execute_reply": "2020-10-11T15:29:38.172252Z"
    },
    "papermill": {
     "duration": 0.133165,
     "end_time": "2020-10-11T15:29:38.172423",
     "exception": false,
     "start_time": "2020-10-11T15:29:38.039258",
     "status": "completed"
    },
    "tags": []
   },
   "outputs": [
    {
     "name": "stdout",
     "output_type": "stream",
     "text": [
      "Model: \"sequential_2\"\n",
      "_________________________________________________________________\n",
      "Layer (type)                 Output Shape              Param #   \n",
      "=================================================================\n",
      "dense_4 (Dense)              (None, 10)                30        \n",
      "_________________________________________________________________\n",
      "dense_5 (Dense)              (None, 10)                110       \n",
      "_________________________________________________________________\n",
      "dense_6 (Dense)              (None, 1)                 11        \n",
      "=================================================================\n",
      "Total params: 151\n",
      "Trainable params: 151\n",
      "Non-trainable params: 0\n",
      "_________________________________________________________________\n"
     ]
    }
   ],
   "source": [
    "mlp_model = Sequential()\n",
    "mlp_model.add(L.Dense(10, kernel_initializer='glorot_normal', activation='relu', input_dim=X_train_encoded.shape[1]))\n",
    "mlp_model.add(L.Dense(10, kernel_initializer='glorot_normal', activation='relu'))\n",
    "mlp_model.add(L.Dense(1))\n",
    "mlp_model.summary()\n",
    "\n",
    "adam = optimizers.Adam(lr)\n",
    "mlp_model.compile(loss='mse', optimizer=adam)"
   ]
  },
  {
   "cell_type": "code",
   "execution_count": 27,
   "metadata": {
    "_uuid": "eaa02d75d5021ebefcd878845dcfd2d2efc8aa40",
    "execution": {
     "iopub.execute_input": "2020-10-11T15:29:38.346712Z",
     "iopub.status.busy": "2020-10-11T15:29:38.345784Z",
     "iopub.status.idle": "2020-10-11T15:30:39.500397Z",
     "shell.execute_reply": "2020-10-11T15:30:39.501043Z"
    },
    "papermill": {
     "duration": 61.243739,
     "end_time": "2020-10-11T15:30:39.501206",
     "exception": false,
     "start_time": "2020-10-11T15:29:38.257467",
     "status": "completed"
    },
    "scrolled": false,
    "tags": []
   },
   "outputs": [
    {
     "name": "stdout",
     "output_type": "stream",
     "text": [
      "Epoch 1/20\n",
      "1566/1566 - 3s - loss: 27.5866 - val_loss: 1.8983\n",
      "Epoch 2/20\n",
      "1566/1566 - 3s - loss: 1.5284 - val_loss: 1.2943\n",
      "Epoch 3/20\n",
      "1566/1566 - 3s - loss: 1.2642 - val_loss: 1.2014\n",
      "Epoch 4/20\n",
      "1566/1566 - 3s - loss: 1.2394 - val_loss: 1.2023\n",
      "Epoch 5/20\n",
      "1566/1566 - 3s - loss: 1.2396 - val_loss: 1.2089\n",
      "Epoch 6/20\n",
      "1566/1566 - 3s - loss: 1.2395 - val_loss: 1.1996\n",
      "Epoch 7/20\n",
      "1566/1566 - 3s - loss: 1.2391 - val_loss: 1.1996\n",
      "Epoch 8/20\n",
      "1566/1566 - 3s - loss: 1.2363 - val_loss: 1.2074\n",
      "Epoch 9/20\n",
      "1566/1566 - 3s - loss: 1.2322 - val_loss: 1.1920\n",
      "Epoch 10/20\n",
      "1566/1566 - 3s - loss: 1.2287 - val_loss: 1.1903\n",
      "Epoch 11/20\n",
      "1566/1566 - 3s - loss: 1.2265 - val_loss: 1.1878\n",
      "Epoch 12/20\n",
      "1566/1566 - 3s - loss: 1.2261 - val_loss: 1.1872\n",
      "Epoch 13/20\n",
      "1566/1566 - 4s - loss: 1.2243 - val_loss: 1.1873\n",
      "Epoch 14/20\n",
      "1566/1566 - 3s - loss: 1.2238 - val_loss: 1.1961\n",
      "Epoch 15/20\n",
      "1566/1566 - 3s - loss: 1.2223 - val_loss: 1.1892\n",
      "Epoch 16/20\n",
      "1566/1566 - 3s - loss: 1.2209 - val_loss: 1.1841\n",
      "Epoch 17/20\n",
      "1566/1566 - 3s - loss: 1.2195 - val_loss: 1.1839\n",
      "Epoch 18/20\n",
      "1566/1566 - 3s - loss: 1.2186 - val_loss: 1.1954\n",
      "Epoch 19/20\n",
      "1566/1566 - 3s - loss: 1.2176 - val_loss: 1.1901\n",
      "Epoch 20/20\n",
      "1566/1566 - 3s - loss: 1.2166 - val_loss: 1.1797\n"
     ]
    }
   ],
   "source": [
    "mlp_history = mlp_model.fit(X_train_encoded.values, Y_train_encoded.values, epochs=epochs, batch_size=batch, validation_data=(X_valid_encoded, Y_valid_encoded), verbose=2)"
   ]
  },
  {
   "cell_type": "markdown",
   "metadata": {
    "_uuid": "d882dae62437156086c66c49f81f4bc4a9f413c8",
    "papermill": {
     "duration": 0.096466,
     "end_time": "2020-10-11T15:30:39.696999",
     "exception": false,
     "start_time": "2020-10-11T15:30:39.600533",
     "status": "completed"
    },
    "tags": []
   },
   "source": [
    "# Comparing models\n",
    "* As you can see I tried to build both models with a similar topology (type/number of layers and neurons), so it could make more sense to compare them.\n",
    "* The results are pretty close, also they may change a bit depending on the random initialization of the networks weights, so I would say they are very similar in terms of performance.\n",
    "\n",
    "#### Model training"
   ]
  },
  {
   "cell_type": "code",
   "execution_count": 28,
   "metadata": {
    "_kg_hide-input": true,
    "_uuid": "0930982fe7cb845c62bcf0b82acda25c9c7fe121",
    "execution": {
     "iopub.execute_input": "2020-10-11T15:30:39.942045Z",
     "iopub.status.busy": "2020-10-11T15:30:39.941452Z",
     "iopub.status.idle": "2020-10-11T15:30:40.332844Z",
     "shell.execute_reply": "2020-10-11T15:30:40.332218Z"
    },
    "papermill": {
     "duration": 0.497995,
     "end_time": "2020-10-11T15:30:40.332997",
     "exception": false,
     "start_time": "2020-10-11T15:30:39.835002",
     "status": "completed"
    },
    "tags": []
   },
   "outputs": [
    {
     "data": {
      "image/png": "[encoded data removed]",
      "text/plain": [
       "<Figure size 1584x504 with 2 Axes>"
      ]
     },
     "metadata": {
      "needs_background": "light"
     },
     "output_type": "display_data"
    }
   ],
   "source": [
    "fig, (ax1, ax2) = plt.subplots(1, 2, sharey=True,figsize=(22,7))\n",
    "\n",
    "ax1.plot(lstm_history.history['loss'], label='Train loss')\n",
    "ax1.plot(lstm_history.history['val_loss'], label='Validation loss')\n",
    "ax1.legend(loc='best')\n",
    "ax1.set_title('Regular LSTM')\n",
    "ax1.set_xlabel('Epochs')\n",
    "ax1.set_ylabel('MSE')\n",
    "\n",
    "ax2.plot(mlp_history.history['loss'], label='Train loss')\n",
    "ax2.plot(mlp_history.history['val_loss'], label='Validation loss')\n",
    "ax2.legend(loc='best')\n",
    "ax2.set_title('MLP with LSTM encoder')\n",
    "ax2.set_xlabel('Epochs')\n",
    "ax2.set_ylabel('MSE')\n",
    "\n",
    "plt.show()"
   ]
  },
  {
   "cell_type": "markdown",
   "metadata": {
    "_uuid": "b7542663bca3bc41620e33ebcbe7490c1b7a3604",
    "papermill": {
     "duration": 0.100288,
     "end_time": "2020-10-11T15:30:40.538523",
     "exception": false,
     "start_time": "2020-10-11T15:30:40.438235",
     "status": "completed"
    },
    "tags": []
   },
   "source": [
    "#### Regular LSTM on train and validation."
   ]
  },
  {
   "cell_type": "code",
   "execution_count": 29,
   "metadata": {
    "_kg_hide-input": true,
    "_uuid": "844bcb19053a3928125b7afcb7b6e59e65dbf05d",
    "execution": {
     "iopub.execute_input": "2020-10-11T15:30:40.740984Z",
     "iopub.status.busy": "2020-10-11T15:30:40.740030Z",
     "iopub.status.idle": "2020-10-11T15:31:11.951623Z",
     "shell.execute_reply": "2020-10-11T15:31:11.952203Z"
    },
    "papermill": {
     "duration": 31.31633,
     "end_time": "2020-10-11T15:31:11.952363",
     "exception": false,
     "start_time": "2020-10-11T15:30:40.636033",
     "status": "completed"
    },
    "tags": []
   },
   "outputs": [
    {
     "name": "stdout",
     "output_type": "stream",
     "text": [
      "Train rmse: 1.076470938136834\n",
      "Validation rmse: 1.0681919213608853\n"
     ]
    }
   ],
   "source": [
    "lstm_train_pred = lstm_model.predict(X_train)\n",
    "lstm_val_pred = lstm_model.predict(X_valid)\n",
    "print('Train rmse:', np.sqrt(mean_squared_error(Y_train, lstm_train_pred)))\n",
    "print('Validation rmse:', np.sqrt(mean_squared_error(Y_valid, lstm_val_pred)))"
   ]
  },
  {
   "cell_type": "markdown",
   "metadata": {
    "_uuid": "c06d5f66376de8d2ec863e2a47248387e71e7660",
    "papermill": {
     "duration": 0.100261,
     "end_time": "2020-10-11T15:31:12.170128",
     "exception": false,
     "start_time": "2020-10-11T15:31:12.069867",
     "status": "completed"
    },
    "tags": []
   },
   "source": [
    "#### MLP with LSTM encoder on train and validation."
   ]
  },
  {
   "cell_type": "code",
   "execution_count": 30,
   "metadata": {
    "_kg_hide-input": true,
    "_uuid": "b3c19ee0cf3d1d01a19720f260889292bea8a3cf",
    "execution": {
     "iopub.execute_input": "2020-10-11T15:31:12.384157Z",
     "iopub.status.busy": "2020-10-11T15:31:12.383279Z",
     "iopub.status.idle": "2020-10-11T15:31:17.032051Z",
     "shell.execute_reply": "2020-10-11T15:31:17.031294Z"
    },
    "papermill": {
     "duration": 4.762659,
     "end_time": "2020-10-11T15:31:17.032226",
     "exception": false,
     "start_time": "2020-10-11T15:31:12.269567",
     "status": "completed"
    },
    "tags": []
   },
   "outputs": [
    {
     "name": "stdout",
     "output_type": "stream",
     "text": [
      "Train rmse: 1.1017709424914062\n",
      "Validation rmse: 1.0861355726433715\n"
     ]
    }
   ],
   "source": [
    "mlp_train_pred2 = mlp_model.predict(X_train_encoded.values)\n",
    "mlp_val_pred2 = mlp_model.predict(X_valid_encoded.values)\n",
    "print('Train rmse:', np.sqrt(mean_squared_error(Y_train_encoded, mlp_train_pred2)))\n",
    "print('Validation rmse:', np.sqrt(mean_squared_error(Y_valid_encoded, mlp_val_pred2)))"
   ]
  },
  {
   "cell_type": "markdown",
   "metadata": {
    "_uuid": "c78a905f90bad6b2bdeb726e36b10f524ec9d3d3",
    "papermill": {
     "duration": 0.101698,
     "end_time": "2020-10-11T15:31:17.236115",
     "exception": false,
     "start_time": "2020-10-11T15:31:17.134417",
     "status": "completed"
    },
    "tags": []
   },
   "source": [
    "### Build test set\n",
    "#### Since we have two models I'll build test sets to apply on both of them."
   ]
  },
  {
   "cell_type": "code",
   "execution_count": 31,
   "metadata": {
    "_uuid": "ba50f3b1f274bc118d5c1d4a3d8feef70fcc38ec",
    "execution": {
     "iopub.execute_input": "2020-10-11T15:31:17.448473Z",
     "iopub.status.busy": "2020-10-11T15:31:17.447460Z",
     "iopub.status.idle": "2020-10-11T15:31:17.651142Z",
     "shell.execute_reply": "2020-10-11T15:31:17.651650Z"
    },
    "papermill": {
     "duration": 0.315218,
     "end_time": "2020-10-11T15:31:17.651781",
     "exception": false,
     "start_time": "2020-10-11T15:31:17.336563",
     "status": "completed"
    },
    "tags": []
   },
   "outputs": [
    {
     "data": {
      "text/html": [
       "<div>\n",
       "<style scoped>\n",
       "    .dataframe tbody tr th:only-of-type {\n",
       "        vertical-align: middle;\n",
       "    }\n",
       "\n",
       "    .dataframe tbody tr th {\n",
       "        vertical-align: top;\n",
       "    }\n",
       "\n",
       "    .dataframe thead th {\n",
       "        text-align: right;\n",
       "    }\n",
       "</style>\n",
       "<table border=\"1\" class=\"dataframe\">\n",
       "  <thead>\n",
       "    <tr style=\"text-align: right;\">\n",
       "      <th></th>\n",
       "      <th>0</th>\n",
       "      <th>1</th>\n",
       "      <th>2</th>\n",
       "      <th>3</th>\n",
       "      <th>4</th>\n",
       "      <th>5</th>\n",
       "      <th>6</th>\n",
       "      <th>7</th>\n",
       "      <th>8</th>\n",
       "      <th>9</th>\n",
       "      <th>...</th>\n",
       "      <th>24</th>\n",
       "      <th>25</th>\n",
       "      <th>26</th>\n",
       "      <th>27</th>\n",
       "      <th>28</th>\n",
       "      <th>29</th>\n",
       "      <th>30</th>\n",
       "      <th>31</th>\n",
       "      <th>32</th>\n",
       "      <th>33</th>\n",
       "    </tr>\n",
       "  </thead>\n",
       "  <tbody>\n",
       "    <tr>\n",
       "      <th>0</th>\n",
       "      <td>0.00</td>\n",
       "      <td>0.00</td>\n",
       "      <td>0.00</td>\n",
       "      <td>0.00</td>\n",
       "      <td>0.00</td>\n",
       "      <td>0.00</td>\n",
       "      <td>0.00</td>\n",
       "      <td>0.00</td>\n",
       "      <td>0.00</td>\n",
       "      <td>0.00</td>\n",
       "      <td>...</td>\n",
       "      <td>2.00</td>\n",
       "      <td>0.00</td>\n",
       "      <td>0.00</td>\n",
       "      <td>0.00</td>\n",
       "      <td>1.00</td>\n",
       "      <td>1.00</td>\n",
       "      <td>1.00</td>\n",
       "      <td>3.00</td>\n",
       "      <td>1.00</td>\n",
       "      <td>0.00</td>\n",
       "    </tr>\n",
       "    <tr>\n",
       "      <th>1</th>\n",
       "      <td>0.00</td>\n",
       "      <td>0.00</td>\n",
       "      <td>0.00</td>\n",
       "      <td>0.00</td>\n",
       "      <td>0.00</td>\n",
       "      <td>0.00</td>\n",
       "      <td>0.00</td>\n",
       "      <td>0.00</td>\n",
       "      <td>0.00</td>\n",
       "      <td>0.00</td>\n",
       "      <td>...</td>\n",
       "      <td>0.00</td>\n",
       "      <td>0.00</td>\n",
       "      <td>0.00</td>\n",
       "      <td>0.00</td>\n",
       "      <td>0.00</td>\n",
       "      <td>0.00</td>\n",
       "      <td>0.00</td>\n",
       "      <td>0.00</td>\n",
       "      <td>0.00</td>\n",
       "      <td>0.00</td>\n",
       "    </tr>\n",
       "    <tr>\n",
       "      <th>2</th>\n",
       "      <td>0.00</td>\n",
       "      <td>0.00</td>\n",
       "      <td>0.00</td>\n",
       "      <td>0.00</td>\n",
       "      <td>0.00</td>\n",
       "      <td>0.00</td>\n",
       "      <td>0.00</td>\n",
       "      <td>0.00</td>\n",
       "      <td>0.00</td>\n",
       "      <td>0.00</td>\n",
       "      <td>...</td>\n",
       "      <td>0.00</td>\n",
       "      <td>0.00</td>\n",
       "      <td>0.00</td>\n",
       "      <td>0.00</td>\n",
       "      <td>3.00</td>\n",
       "      <td>2.00</td>\n",
       "      <td>0.00</td>\n",
       "      <td>1.00</td>\n",
       "      <td>3.00</td>\n",
       "      <td>1.00</td>\n",
       "    </tr>\n",
       "    <tr>\n",
       "      <th>3</th>\n",
       "      <td>0.00</td>\n",
       "      <td>0.00</td>\n",
       "      <td>0.00</td>\n",
       "      <td>0.00</td>\n",
       "      <td>0.00</td>\n",
       "      <td>0.00</td>\n",
       "      <td>0.00</td>\n",
       "      <td>0.00</td>\n",
       "      <td>0.00</td>\n",
       "      <td>0.00</td>\n",
       "      <td>...</td>\n",
       "      <td>0.00</td>\n",
       "      <td>0.00</td>\n",
       "      <td>0.00</td>\n",
       "      <td>0.00</td>\n",
       "      <td>0.00</td>\n",
       "      <td>0.00</td>\n",
       "      <td>0.00</td>\n",
       "      <td>1.00</td>\n",
       "      <td>0.00</td>\n",
       "      <td>0.00</td>\n",
       "    </tr>\n",
       "    <tr>\n",
       "      <th>4</th>\n",
       "      <td>0.00</td>\n",
       "      <td>0.00</td>\n",
       "      <td>0.00</td>\n",
       "      <td>0.00</td>\n",
       "      <td>0.00</td>\n",
       "      <td>0.00</td>\n",
       "      <td>0.00</td>\n",
       "      <td>0.00</td>\n",
       "      <td>0.00</td>\n",
       "      <td>0.00</td>\n",
       "      <td>...</td>\n",
       "      <td>0.00</td>\n",
       "      <td>0.00</td>\n",
       "      <td>0.00</td>\n",
       "      <td>0.00</td>\n",
       "      <td>0.00</td>\n",
       "      <td>0.00</td>\n",
       "      <td>0.00</td>\n",
       "      <td>0.00</td>\n",
       "      <td>0.00</td>\n",
       "      <td>0.00</td>\n",
       "    </tr>\n",
       "  </tbody>\n",
       "</table>\n",
       "<p>5 rows × 34 columns</p>\n",
       "</div>"
      ],
      "text/plain": [
       "    0    1    2    3    4    5    6    7    8    9   ...   24   25   26   27  \\\n",
       "0 0.00 0.00 0.00 0.00 0.00 0.00 0.00 0.00 0.00 0.00  ... 2.00 0.00 0.00 0.00   \n",
       "1 0.00 0.00 0.00 0.00 0.00 0.00 0.00 0.00 0.00 0.00  ... 0.00 0.00 0.00 0.00   \n",
       "2 0.00 0.00 0.00 0.00 0.00 0.00 0.00 0.00 0.00 0.00  ... 0.00 0.00 0.00 0.00   \n",
       "3 0.00 0.00 0.00 0.00 0.00 0.00 0.00 0.00 0.00 0.00  ... 0.00 0.00 0.00 0.00   \n",
       "4 0.00 0.00 0.00 0.00 0.00 0.00 0.00 0.00 0.00 0.00  ... 0.00 0.00 0.00 0.00   \n",
       "\n",
       "    28   29   30   31   32   33  \n",
       "0 1.00 1.00 1.00 3.00 1.00 0.00  \n",
       "1 0.00 0.00 0.00 0.00 0.00 0.00  \n",
       "2 3.00 2.00 0.00 1.00 3.00 1.00  \n",
       "3 0.00 0.00 0.00 1.00 0.00 0.00  \n",
       "4 0.00 0.00 0.00 0.00 0.00 0.00  \n",
       "\n",
       "[5 rows x 34 columns]"
      ]
     },
     "execution_count": 31,
     "metadata": {},
     "output_type": "execute_result"
    }
   ],
   "source": [
    "latest_records = monthly_series.drop_duplicates(subset=['shop_id', 'item_id'])\n",
    "X_test = pd.merge(test, latest_records, on=['shop_id', 'item_id'], how='left', suffixes=['', '_'])\n",
    "X_test.fillna(0, inplace=True)\n",
    "X_test.drop(['ID', 'item_id', 'shop_id'], axis=1, inplace=True)\n",
    "X_test.head()"
   ]
  },
  {
   "cell_type": "markdown",
   "metadata": {
    "_uuid": "88dac07663f364c3bde17f5fd27d3e313f5af28c",
    "papermill": {
     "duration": 0.097419,
     "end_time": "2020-10-11T15:31:17.847621",
     "exception": false,
     "start_time": "2020-10-11T15:31:17.750202",
     "status": "completed"
    },
    "tags": []
   },
   "source": [
    "### Regular LSTM model test predictions\n",
    "* For the regular LSTM model we just need the last 12 months, because that's our series input size."
   ]
  },
  {
   "cell_type": "code",
   "execution_count": 32,
   "metadata": {
    "_kg_hide-input": true,
    "_uuid": "c1619071697c4ac3be9c795522792657681fc809",
    "execution": {
     "iopub.execute_input": "2020-10-11T15:31:18.060399Z",
     "iopub.status.busy": "2020-10-11T15:31:18.059420Z",
     "iopub.status.idle": "2020-10-11T15:31:18.064114Z",
     "shell.execute_reply": "2020-10-11T15:31:18.063626Z"
    },
    "papermill": {
     "duration": 0.118816,
     "end_time": "2020-10-11T15:31:18.064214",
     "exception": false,
     "start_time": "2020-10-11T15:31:17.945398",
     "status": "completed"
    },
    "tags": []
   },
   "outputs": [
    {
     "data": {
      "text/html": [
       "<div>\n",
       "<style scoped>\n",
       "    .dataframe tbody tr th:only-of-type {\n",
       "        vertical-align: middle;\n",
       "    }\n",
       "\n",
       "    .dataframe tbody tr th {\n",
       "        vertical-align: top;\n",
       "    }\n",
       "\n",
       "    .dataframe thead th {\n",
       "        text-align: right;\n",
       "    }\n",
       "</style>\n",
       "<table border=\"1\" class=\"dataframe\">\n",
       "  <thead>\n",
       "    <tr style=\"text-align: right;\">\n",
       "      <th></th>\n",
       "      <th>22</th>\n",
       "      <th>23</th>\n",
       "      <th>24</th>\n",
       "      <th>25</th>\n",
       "      <th>26</th>\n",
       "      <th>27</th>\n",
       "      <th>28</th>\n",
       "      <th>29</th>\n",
       "      <th>30</th>\n",
       "      <th>31</th>\n",
       "      <th>32</th>\n",
       "      <th>33</th>\n",
       "    </tr>\n",
       "  </thead>\n",
       "  <tbody>\n",
       "    <tr>\n",
       "      <th>0</th>\n",
       "      <td>1.00</td>\n",
       "      <td>2.00</td>\n",
       "      <td>2.00</td>\n",
       "      <td>0.00</td>\n",
       "      <td>0.00</td>\n",
       "      <td>0.00</td>\n",
       "      <td>1.00</td>\n",
       "      <td>1.00</td>\n",
       "      <td>1.00</td>\n",
       "      <td>3.00</td>\n",
       "      <td>1.00</td>\n",
       "      <td>0.00</td>\n",
       "    </tr>\n",
       "    <tr>\n",
       "      <th>1</th>\n",
       "      <td>0.00</td>\n",
       "      <td>0.00</td>\n",
       "      <td>0.00</td>\n",
       "      <td>0.00</td>\n",
       "      <td>0.00</td>\n",
       "      <td>0.00</td>\n",
       "      <td>0.00</td>\n",
       "      <td>0.00</td>\n",
       "      <td>0.00</td>\n",
       "      <td>0.00</td>\n",
       "      <td>0.00</td>\n",
       "      <td>0.00</td>\n",
       "    </tr>\n",
       "    <tr>\n",
       "      <th>2</th>\n",
       "      <td>0.00</td>\n",
       "      <td>0.00</td>\n",
       "      <td>0.00</td>\n",
       "      <td>0.00</td>\n",
       "      <td>0.00</td>\n",
       "      <td>0.00</td>\n",
       "      <td>3.00</td>\n",
       "      <td>2.00</td>\n",
       "      <td>0.00</td>\n",
       "      <td>1.00</td>\n",
       "      <td>3.00</td>\n",
       "      <td>1.00</td>\n",
       "    </tr>\n",
       "    <tr>\n",
       "      <th>3</th>\n",
       "      <td>0.00</td>\n",
       "      <td>0.00</td>\n",
       "      <td>0.00</td>\n",
       "      <td>0.00</td>\n",
       "      <td>0.00</td>\n",
       "      <td>0.00</td>\n",
       "      <td>0.00</td>\n",
       "      <td>0.00</td>\n",
       "      <td>0.00</td>\n",
       "      <td>1.00</td>\n",
       "      <td>0.00</td>\n",
       "      <td>0.00</td>\n",
       "    </tr>\n",
       "    <tr>\n",
       "      <th>4</th>\n",
       "      <td>0.00</td>\n",
       "      <td>0.00</td>\n",
       "      <td>0.00</td>\n",
       "      <td>0.00</td>\n",
       "      <td>0.00</td>\n",
       "      <td>0.00</td>\n",
       "      <td>0.00</td>\n",
       "      <td>0.00</td>\n",
       "      <td>0.00</td>\n",
       "      <td>0.00</td>\n",
       "      <td>0.00</td>\n",
       "      <td>0.00</td>\n",
       "    </tr>\n",
       "  </tbody>\n",
       "</table>\n",
       "</div>"
      ],
      "text/plain": [
       "    22   23   24   25   26   27   28   29   30   31   32   33\n",
       "0 1.00 2.00 2.00 0.00 0.00 0.00 1.00 1.00 1.00 3.00 1.00 0.00\n",
       "1 0.00 0.00 0.00 0.00 0.00 0.00 0.00 0.00 0.00 0.00 0.00 0.00\n",
       "2 0.00 0.00 0.00 0.00 0.00 0.00 3.00 2.00 0.00 1.00 3.00 1.00\n",
       "3 0.00 0.00 0.00 0.00 0.00 0.00 0.00 0.00 0.00 1.00 0.00 0.00\n",
       "4 0.00 0.00 0.00 0.00 0.00 0.00 0.00 0.00 0.00 0.00 0.00 0.00"
      ]
     },
     "execution_count": 32,
     "metadata": {},
     "output_type": "execute_result"
    }
   ],
   "source": [
    "X_test = X_test[[(i + (34 - serie_size)) for i in range(serie_size)]]\n",
    "X_test.head()"
   ]
  },
  {
   "cell_type": "markdown",
   "metadata": {
    "_uuid": "1b2ab6556c84ccfaaef9a05621d732bdad197989",
    "papermill": {
     "duration": 0.097932,
     "end_time": "2020-10-11T15:31:18.260762",
     "exception": false,
     "start_time": "2020-10-11T15:31:18.162830",
     "status": "completed"
    },
    "tags": []
   },
   "source": [
    "### Reshape data.\n",
    "* Time-series shape **(data points, time-steps, features)**."
   ]
  },
  {
   "cell_type": "code",
   "execution_count": 33,
   "metadata": {
    "_kg_hide-input": true,
    "_uuid": "59de0ac820298b0e319e57ec22df5ec46641278b",
    "execution": {
     "iopub.execute_input": "2020-10-11T15:31:18.465577Z",
     "iopub.status.busy": "2020-10-11T15:31:18.464926Z",
     "iopub.status.idle": "2020-10-11T15:31:18.469420Z",
     "shell.execute_reply": "2020-10-11T15:31:18.469854Z"
    },
    "papermill": {
     "duration": 0.108812,
     "end_time": "2020-10-11T15:31:18.470007",
     "exception": false,
     "start_time": "2020-10-11T15:31:18.361195",
     "status": "completed"
    },
    "tags": []
   },
   "outputs": [
    {
     "name": "stdout",
     "output_type": "stream",
     "text": [
      "(214200, 12, 1)\n"
     ]
    }
   ],
   "source": [
    "X_test_reshaped = X_test.values.reshape((X_test.shape[0], X_test.shape[1], 1))\n",
    "print(X_test_reshaped.shape)"
   ]
  },
  {
   "cell_type": "markdown",
   "metadata": {
    "_uuid": "f42e9b8c07aa26e1454f35f7f16e8e7e5354e730",
    "papermill": {
     "duration": 0.106114,
     "end_time": "2020-10-11T15:31:18.678552",
     "exception": false,
     "start_time": "2020-10-11T15:31:18.572438",
     "status": "completed"
    },
    "tags": []
   },
   "source": [
    "#### Making predictions."
   ]
  },
  {
   "cell_type": "code",
   "execution_count": 34,
   "metadata": {
    "_uuid": "a5795c5aca18cc9072523d0df3d3a5611896b24d",
    "execution": {
     "iopub.execute_input": "2020-10-11T15:31:18.889391Z",
     "iopub.status.busy": "2020-10-11T15:31:18.888542Z",
     "iopub.status.idle": "2020-10-11T15:31:51.918744Z",
     "shell.execute_reply": "2020-10-11T15:31:51.918155Z"
    },
    "papermill": {
     "duration": 33.13601,
     "end_time": "2020-10-11T15:31:51.918854",
     "exception": false,
     "start_time": "2020-10-11T15:31:18.782844",
     "status": "completed"
    },
    "tags": []
   },
   "outputs": [],
   "source": [
    "lstm_test_pred = lstm_model.predict(X_test_reshaped)"
   ]
  },
  {
   "cell_type": "markdown",
   "metadata": {
    "_uuid": "653b086d81c24a063b20be97736b71a0fc9506d7",
    "papermill": {
     "duration": 0.09933,
     "end_time": "2020-10-11T15:31:52.120460",
     "exception": false,
     "start_time": "2020-10-11T15:31:52.021130",
     "status": "completed"
    },
    "tags": []
   },
   "source": [
    " ### MLP with LSTM encoded feature test predictions\n",
    "* For the MLP model with the encoded features I'm only using the current month \"item_count\" and the encoded time-series feature from our LSTM encoder model.\n",
    "\n",
    "#### Encoding the time-series"
   ]
  },
  {
   "cell_type": "code",
   "execution_count": 35,
   "metadata": {
    "_uuid": "4c32f05942dce7e896bf86048c05f603fb328c60",
    "execution": {
     "iopub.execute_input": "2020-10-11T15:31:52.329288Z",
     "iopub.status.busy": "2020-10-11T15:31:52.328441Z",
     "iopub.status.idle": "2020-10-11T15:32:30.706824Z",
     "shell.execute_reply": "2020-10-11T15:32:30.706276Z"
    },
    "papermill": {
     "duration": 38.482293,
     "end_time": "2020-10-11T15:32:30.706967",
     "exception": false,
     "start_time": "2020-10-11T15:31:52.224674",
     "status": "completed"
    },
    "tags": []
   },
   "outputs": [],
   "source": [
    "test_encoded = encoder.predict(X_test_reshaped)"
   ]
  },
  {
   "cell_type": "markdown",
   "metadata": {
    "_uuid": "78f5d2986f66d91e91ca9848c1cefd9b13a4ba3e",
    "papermill": {
     "duration": 0.107153,
     "end_time": "2020-10-11T15:32:30.916166",
     "exception": false,
     "start_time": "2020-10-11T15:32:30.809013",
     "status": "completed"
    },
    "tags": []
   },
   "source": [
    "#### Add encoded features to the test set."
   ]
  },
  {
   "cell_type": "code",
   "execution_count": 36,
   "metadata": {
    "_uuid": "88a028777a14411cc9e3de789d28621a30408f0e",
    "execution": {
     "iopub.execute_input": "2020-10-11T15:32:31.134211Z",
     "iopub.status.busy": "2020-10-11T15:32:31.127900Z",
     "iopub.status.idle": "2020-10-11T15:32:31.138091Z",
     "shell.execute_reply": "2020-10-11T15:32:31.137576Z"
    },
    "papermill": {
     "duration": 0.122087,
     "end_time": "2020-10-11T15:32:31.138201",
     "exception": false,
     "start_time": "2020-10-11T15:32:31.016114",
     "status": "completed"
    },
    "tags": []
   },
   "outputs": [
    {
     "data": {
      "text/html": [
       "<div>\n",
       "<style scoped>\n",
       "    .dataframe tbody tr th:only-of-type {\n",
       "        vertical-align: middle;\n",
       "    }\n",
       "\n",
       "    .dataframe tbody tr th {\n",
       "        vertical-align: top;\n",
       "    }\n",
       "\n",
       "    .dataframe thead th {\n",
       "        text-align: right;\n",
       "    }\n",
       "</style>\n",
       "<table border=\"1\" class=\"dataframe\">\n",
       "  <thead>\n",
       "    <tr style=\"text-align: right;\">\n",
       "      <th></th>\n",
       "      <th>22</th>\n",
       "      <th>23</th>\n",
       "      <th>24</th>\n",
       "      <th>25</th>\n",
       "      <th>26</th>\n",
       "      <th>27</th>\n",
       "      <th>28</th>\n",
       "      <th>29</th>\n",
       "      <th>30</th>\n",
       "      <th>31</th>\n",
       "      <th>32</th>\n",
       "      <th>33</th>\n",
       "      <th>encoded</th>\n",
       "    </tr>\n",
       "  </thead>\n",
       "  <tbody>\n",
       "    <tr>\n",
       "      <th>0</th>\n",
       "      <td>1.00</td>\n",
       "      <td>2.00</td>\n",
       "      <td>2.00</td>\n",
       "      <td>0.00</td>\n",
       "      <td>0.00</td>\n",
       "      <td>0.00</td>\n",
       "      <td>1.00</td>\n",
       "      <td>1.00</td>\n",
       "      <td>1.00</td>\n",
       "      <td>3.00</td>\n",
       "      <td>1.00</td>\n",
       "      <td>0.00</td>\n",
       "      <td>4.88</td>\n",
       "    </tr>\n",
       "    <tr>\n",
       "      <th>1</th>\n",
       "      <td>0.00</td>\n",
       "      <td>0.00</td>\n",
       "      <td>0.00</td>\n",
       "      <td>0.00</td>\n",
       "      <td>0.00</td>\n",
       "      <td>0.00</td>\n",
       "      <td>0.00</td>\n",
       "      <td>0.00</td>\n",
       "      <td>0.00</td>\n",
       "      <td>0.00</td>\n",
       "      <td>0.00</td>\n",
       "      <td>0.00</td>\n",
       "      <td>1.77</td>\n",
       "    </tr>\n",
       "    <tr>\n",
       "      <th>2</th>\n",
       "      <td>0.00</td>\n",
       "      <td>0.00</td>\n",
       "      <td>0.00</td>\n",
       "      <td>0.00</td>\n",
       "      <td>0.00</td>\n",
       "      <td>0.00</td>\n",
       "      <td>3.00</td>\n",
       "      <td>2.00</td>\n",
       "      <td>0.00</td>\n",
       "      <td>1.00</td>\n",
       "      <td>3.00</td>\n",
       "      <td>1.00</td>\n",
       "      <td>6.93</td>\n",
       "    </tr>\n",
       "    <tr>\n",
       "      <th>3</th>\n",
       "      <td>0.00</td>\n",
       "      <td>0.00</td>\n",
       "      <td>0.00</td>\n",
       "      <td>0.00</td>\n",
       "      <td>0.00</td>\n",
       "      <td>0.00</td>\n",
       "      <td>0.00</td>\n",
       "      <td>0.00</td>\n",
       "      <td>0.00</td>\n",
       "      <td>1.00</td>\n",
       "      <td>0.00</td>\n",
       "      <td>0.00</td>\n",
       "      <td>2.27</td>\n",
       "    </tr>\n",
       "    <tr>\n",
       "      <th>4</th>\n",
       "      <td>0.00</td>\n",
       "      <td>0.00</td>\n",
       "      <td>0.00</td>\n",
       "      <td>0.00</td>\n",
       "      <td>0.00</td>\n",
       "      <td>0.00</td>\n",
       "      <td>0.00</td>\n",
       "      <td>0.00</td>\n",
       "      <td>0.00</td>\n",
       "      <td>0.00</td>\n",
       "      <td>0.00</td>\n",
       "      <td>0.00</td>\n",
       "      <td>1.77</td>\n",
       "    </tr>\n",
       "  </tbody>\n",
       "</table>\n",
       "</div>"
      ],
      "text/plain": [
       "    22   23   24   25   26   27   28   29   30   31   32   33  encoded\n",
       "0 1.00 2.00 2.00 0.00 0.00 0.00 1.00 1.00 1.00 3.00 1.00 0.00     4.88\n",
       "1 0.00 0.00 0.00 0.00 0.00 0.00 0.00 0.00 0.00 0.00 0.00 0.00     1.77\n",
       "2 0.00 0.00 0.00 0.00 0.00 0.00 3.00 2.00 0.00 1.00 3.00 1.00     6.93\n",
       "3 0.00 0.00 0.00 0.00 0.00 0.00 0.00 0.00 0.00 1.00 0.00 0.00     2.27\n",
       "4 0.00 0.00 0.00 0.00 0.00 0.00 0.00 0.00 0.00 0.00 0.00 0.00     1.77"
      ]
     },
     "execution_count": 36,
     "metadata": {},
     "output_type": "execute_result"
    }
   ],
   "source": [
    "X_test['encoded'] = test_encoded\n",
    "X_test.head()"
   ]
  },
  {
   "cell_type": "code",
   "execution_count": 37,
   "metadata": {
    "_uuid": "43f908c12553d5492978e93f59c95b73268fa798",
    "execution": {
     "iopub.execute_input": "2020-10-11T15:32:31.354164Z",
     "iopub.status.busy": "2020-10-11T15:32:31.352670Z",
     "iopub.status.idle": "2020-10-11T15:32:31.359325Z",
     "shell.execute_reply": "2020-10-11T15:32:31.358745Z"
    },
    "papermill": {
     "duration": 0.119068,
     "end_time": "2020-10-11T15:32:31.359440",
     "exception": false,
     "start_time": "2020-10-11T15:32:31.240372",
     "status": "completed"
    },
    "tags": []
   },
   "outputs": [
    {
     "name": "stdout",
     "output_type": "stream",
     "text": [
      "Train set (214200, 2)\n"
     ]
    },
    {
     "data": {
      "text/html": [
       "<div>\n",
       "<style scoped>\n",
       "    .dataframe tbody tr th:only-of-type {\n",
       "        vertical-align: middle;\n",
       "    }\n",
       "\n",
       "    .dataframe tbody tr th {\n",
       "        vertical-align: top;\n",
       "    }\n",
       "\n",
       "    .dataframe thead th {\n",
       "        text-align: right;\n",
       "    }\n",
       "</style>\n",
       "<table border=\"1\" class=\"dataframe\">\n",
       "  <thead>\n",
       "    <tr style=\"text-align: right;\">\n",
       "      <th></th>\n",
       "      <th>33</th>\n",
       "      <th>encoded</th>\n",
       "    </tr>\n",
       "  </thead>\n",
       "  <tbody>\n",
       "    <tr>\n",
       "      <th>0</th>\n",
       "      <td>0.00</td>\n",
       "      <td>4.88</td>\n",
       "    </tr>\n",
       "    <tr>\n",
       "      <th>1</th>\n",
       "      <td>0.00</td>\n",
       "      <td>1.77</td>\n",
       "    </tr>\n",
       "    <tr>\n",
       "      <th>2</th>\n",
       "      <td>1.00</td>\n",
       "      <td>6.93</td>\n",
       "    </tr>\n",
       "    <tr>\n",
       "      <th>3</th>\n",
       "      <td>0.00</td>\n",
       "      <td>2.27</td>\n",
       "    </tr>\n",
       "    <tr>\n",
       "      <th>4</th>\n",
       "      <td>0.00</td>\n",
       "      <td>1.77</td>\n",
       "    </tr>\n",
       "  </tbody>\n",
       "</table>\n",
       "</div>"
      ],
      "text/plain": [
       "    33  encoded\n",
       "0 0.00     4.88\n",
       "1 0.00     1.77\n",
       "2 1.00     6.93\n",
       "3 0.00     2.27\n",
       "4 0.00     1.77"
      ]
     },
     "execution_count": 37,
     "metadata": {},
     "output_type": "execute_result"
    }
   ],
   "source": [
    "X_test_encoded = X_test[[33, 'encoded']]\n",
    "print(\"Train set\", X_test_encoded.shape)\n",
    "X_test_encoded.head()"
   ]
  },
  {
   "cell_type": "markdown",
   "metadata": {
    "_uuid": "c595f7a5f954a9e15c9d3189e9b809d32ca14abf",
    "papermill": {
     "duration": 0.105169,
     "end_time": "2020-10-11T15:32:31.567778",
     "exception": false,
     "start_time": "2020-10-11T15:32:31.462609",
     "status": "completed"
    },
    "tags": []
   },
   "source": [
    "#### Making predictions."
   ]
  },
  {
   "cell_type": "code",
   "execution_count": 38,
   "metadata": {
    "_uuid": "8596bb8b6f8905fdda825451d221e9b58e8d21e1",
    "execution": {
     "iopub.execute_input": "2020-10-11T15:32:31.781405Z",
     "iopub.status.busy": "2020-10-11T15:32:31.780450Z",
     "iopub.status.idle": "2020-10-11T15:32:37.581826Z",
     "shell.execute_reply": "2020-10-11T15:32:37.581295Z"
    },
    "papermill": {
     "duration": 5.911773,
     "end_time": "2020-10-11T15:32:37.581968",
     "exception": false,
     "start_time": "2020-10-11T15:32:31.670195",
     "status": "completed"
    },
    "tags": []
   },
   "outputs": [],
   "source": [
    "mlp_test_pred = mlp_model.predict(X_test_encoded)"
   ]
  },
  {
   "cell_type": "markdown",
   "metadata": {
    "_uuid": "0e6bbd8adf786e86b3565470373851300e3d4d78",
    "papermill": {
     "duration": 0.101863,
     "end_time": "2020-10-11T15:32:37.790566",
     "exception": false,
     "start_time": "2020-10-11T15:32:37.688703",
     "status": "completed"
    },
    "tags": []
   },
   "source": [
    "#### Predictions from the regular LSTM model."
   ]
  },
  {
   "cell_type": "code",
   "execution_count": 39,
   "metadata": {
    "_kg_hide-input": true,
    "_uuid": "3bd83a7c4152f672e3ee4865da6fd61748b5f6b8",
    "execution": {
     "iopub.execute_input": "2020-10-11T15:32:38.047858Z",
     "iopub.status.busy": "2020-10-11T15:32:38.046926Z",
     "iopub.status.idle": "2020-10-11T15:32:39.130680Z",
     "shell.execute_reply": "2020-10-11T15:32:39.131701Z"
    },
    "papermill": {
     "duration": 1.240028,
     "end_time": "2020-10-11T15:32:39.131866",
     "exception": false,
     "start_time": "2020-10-11T15:32:37.891838",
     "status": "completed"
    },
    "tags": []
   },
   "outputs": [
    {
     "data": {
      "text/html": [
       "<div>\n",
       "<style scoped>\n",
       "    .dataframe tbody tr th:only-of-type {\n",
       "        vertical-align: middle;\n",
       "    }\n",
       "\n",
       "    .dataframe tbody tr th {\n",
       "        vertical-align: top;\n",
       "    }\n",
       "\n",
       "    .dataframe thead th {\n",
       "        text-align: right;\n",
       "    }\n",
       "</style>\n",
       "<table border=\"1\" class=\"dataframe\">\n",
       "  <thead>\n",
       "    <tr style=\"text-align: right;\">\n",
       "      <th></th>\n",
       "      <th>ID</th>\n",
       "      <th>item_cnt_month</th>\n",
       "    </tr>\n",
       "  </thead>\n",
       "  <tbody>\n",
       "    <tr>\n",
       "      <th>0</th>\n",
       "      <td>0</td>\n",
       "      <td>0.55</td>\n",
       "    </tr>\n",
       "    <tr>\n",
       "      <th>1</th>\n",
       "      <td>1</td>\n",
       "      <td>0.49</td>\n",
       "    </tr>\n",
       "    <tr>\n",
       "      <th>2</th>\n",
       "      <td>2</td>\n",
       "      <td>0.85</td>\n",
       "    </tr>\n",
       "    <tr>\n",
       "      <th>3</th>\n",
       "      <td>3</td>\n",
       "      <td>0.17</td>\n",
       "    </tr>\n",
       "    <tr>\n",
       "      <th>4</th>\n",
       "      <td>4</td>\n",
       "      <td>0.49</td>\n",
       "    </tr>\n",
       "    <tr>\n",
       "      <th>5</th>\n",
       "      <td>5</td>\n",
       "      <td>0.44</td>\n",
       "    </tr>\n",
       "    <tr>\n",
       "      <th>6</th>\n",
       "      <td>6</td>\n",
       "      <td>0.98</td>\n",
       "    </tr>\n",
       "    <tr>\n",
       "      <th>7</th>\n",
       "      <td>7</td>\n",
       "      <td>0.17</td>\n",
       "    </tr>\n",
       "    <tr>\n",
       "      <th>8</th>\n",
       "      <td>8</td>\n",
       "      <td>1.22</td>\n",
       "    </tr>\n",
       "    <tr>\n",
       "      <th>9</th>\n",
       "      <td>9</td>\n",
       "      <td>0.49</td>\n",
       "    </tr>\n",
       "  </tbody>\n",
       "</table>\n",
       "</div>"
      ],
      "text/plain": [
       "   ID  item_cnt_month\n",
       "0   0            0.55\n",
       "1   1            0.49\n",
       "2   2            0.85\n",
       "3   3            0.17\n",
       "4   4            0.49\n",
       "5   5            0.44\n",
       "6   6            0.98\n",
       "7   7            0.17\n",
       "8   8            1.22\n",
       "9   9            0.49"
      ]
     },
     "execution_count": 39,
     "metadata": {},
     "output_type": "execute_result"
    }
   ],
   "source": [
    "lstm_prediction = pd.DataFrame(test['ID'], columns=['ID'])\n",
    "lstm_prediction['item_cnt_month'] = lstm_test_pred.clip(0., 20.)\n",
    "lstm_prediction.to_csv('lstm_submission.csv', index=False)\n",
    "lstm_prediction.head(10)"
   ]
  },
  {
   "cell_type": "markdown",
   "metadata": {
    "_uuid": "f95a651994bacb87e78359ecd7583554342b6660",
    "papermill": {
     "duration": 0.105683,
     "end_time": "2020-10-11T15:32:39.360127",
     "exception": false,
     "start_time": "2020-10-11T15:32:39.254444",
     "status": "completed"
    },
    "tags": []
   },
   "source": [
    "#### Predictions from the MLP model with LSTM encodded feature ."
   ]
  },
  {
   "cell_type": "code",
   "execution_count": 40,
   "metadata": {
    "_kg_hide-input": true,
    "_uuid": "b28761903b6ce8fc59131dd2d57a29bf76ff1add",
    "execution": {
     "iopub.execute_input": "2020-10-11T15:32:39.632881Z",
     "iopub.status.busy": "2020-10-11T15:32:39.631915Z",
     "iopub.status.idle": "2020-10-11T15:32:40.311374Z",
     "shell.execute_reply": "2020-10-11T15:32:40.311896Z"
    },
    "papermill": {
     "duration": 0.838243,
     "end_time": "2020-10-11T15:32:40.312061",
     "exception": false,
     "start_time": "2020-10-11T15:32:39.473818",
     "status": "completed"
    },
    "tags": []
   },
   "outputs": [
    {
     "data": {
      "text/html": [
       "<div>\n",
       "<style scoped>\n",
       "    .dataframe tbody tr th:only-of-type {\n",
       "        vertical-align: middle;\n",
       "    }\n",
       "\n",
       "    .dataframe tbody tr th {\n",
       "        vertical-align: top;\n",
       "    }\n",
       "\n",
       "    .dataframe thead th {\n",
       "        text-align: right;\n",
       "    }\n",
       "</style>\n",
       "<table border=\"1\" class=\"dataframe\">\n",
       "  <thead>\n",
       "    <tr style=\"text-align: right;\">\n",
       "      <th></th>\n",
       "      <th>ID</th>\n",
       "      <th>item_cnt_month</th>\n",
       "    </tr>\n",
       "  </thead>\n",
       "  <tbody>\n",
       "    <tr>\n",
       "      <th>0</th>\n",
       "      <td>0</td>\n",
       "      <td>0.24</td>\n",
       "    </tr>\n",
       "    <tr>\n",
       "      <th>1</th>\n",
       "      <td>1</td>\n",
       "      <td>0.36</td>\n",
       "    </tr>\n",
       "    <tr>\n",
       "      <th>2</th>\n",
       "      <td>2</td>\n",
       "      <td>0.41</td>\n",
       "    </tr>\n",
       "    <tr>\n",
       "      <th>3</th>\n",
       "      <td>3</td>\n",
       "      <td>0.28</td>\n",
       "    </tr>\n",
       "    <tr>\n",
       "      <th>4</th>\n",
       "      <td>4</td>\n",
       "      <td>0.36</td>\n",
       "    </tr>\n",
       "    <tr>\n",
       "      <th>5</th>\n",
       "      <td>5</td>\n",
       "      <td>0.40</td>\n",
       "    </tr>\n",
       "    <tr>\n",
       "      <th>6</th>\n",
       "      <td>6</td>\n",
       "      <td>0.87</td>\n",
       "    </tr>\n",
       "    <tr>\n",
       "      <th>7</th>\n",
       "      <td>7</td>\n",
       "      <td>0.24</td>\n",
       "    </tr>\n",
       "    <tr>\n",
       "      <th>8</th>\n",
       "      <td>8</td>\n",
       "      <td>0.73</td>\n",
       "    </tr>\n",
       "    <tr>\n",
       "      <th>9</th>\n",
       "      <td>9</td>\n",
       "      <td>0.36</td>\n",
       "    </tr>\n",
       "  </tbody>\n",
       "</table>\n",
       "</div>"
      ],
      "text/plain": [
       "   ID  item_cnt_month\n",
       "0   0            0.24\n",
       "1   1            0.36\n",
       "2   2            0.41\n",
       "3   3            0.28\n",
       "4   4            0.36\n",
       "5   5            0.40\n",
       "6   6            0.87\n",
       "7   7            0.24\n",
       "8   8            0.73\n",
       "9   9            0.36"
      ]
     },
     "execution_count": 40,
     "metadata": {},
     "output_type": "execute_result"
    }
   ],
   "source": [
    "mlp_prediction = pd.DataFrame(test['ID'], columns=['ID'])\n",
    "mlp_prediction['item_cnt_month'] = mlp_test_pred.clip(0., 20.)\n",
    "mlp_prediction.to_csv('mlp_submission.csv', index=False)\n",
    "mlp_prediction.head(10)"
   ]
  },
  {
   "cell_type": "markdown",
   "metadata": {
    "_uuid": "c8f980a4d9abb038f83d317ea6c80ebdf127b002",
    "papermill": {
     "duration": 0.102688,
     "end_time": "2020-10-11T15:32:40.521027",
     "exception": false,
     "start_time": "2020-10-11T15:32:40.418339",
     "status": "completed"
    },
    "tags": []
   },
   "source": [
    "Just a disclaimer, you absolutely can get better results on any of the used models,  I did not spent too much time tuning the models hyper parameters, as this is just for demonstration purpose, so if you want to give the code a try, you should surely tune a little more, if you get better results or any good insight about the models or architecture please let me know.\n",
    "\n",
    "If you want to check out some interesting different approaches on time series problems take a look at this kernel [Deep Learning for Time Series Forecasting](https://www.kaggle.com/dimitreoliveira/deep-learning-for-time-series-forecasting)."
   ]
  }
 ],
 "metadata": {
  "kernelspec": {
   "display_name": "Python 3",
   "language": "python",
   "name": "python3"
  },
  "language_info": {
   "codemirror_mode": {
    "name": "ipython",
    "version": 3
   },
   "file_extension": ".py",
   "mimetype": "text/x-python",
   "name": "python",
   "nbconvert_exporter": "python",
   "pygments_lexer": "ipython3",
   "version": "3.7.6"
  },
  "papermill": {
   "duration": 5050.455441,
   "end_time": "2020-10-11T15:32:42.358141",
   "environment_variables": {},
   "exception": null,
   "input_path": "__notebook__.ipynb",
   "output_path": "__notebook__.ipynb",
   "parameters": {},
   "start_time": "2020-10-11T14:08:31.902700",
   "version": "2.1.0"
  }
 },
 "nbformat": 4,
 "nbformat_minor": 4
}
